{
 "cells": [
  {
   "cell_type": "markdown",
   "id": "3ab94ea5-d12b-4a1b-aaa0-31d6b715d9db",
   "metadata": {},
   "source": [
    "Nota do Autor: Este notebook sofrerá atualizações constantes até atingir sua versão final. Desta forma, se encontrar algum conteúdo incompleto peço que seja paciente e, caso encontre algum conteúdo equivocado, peço respeitosamente que me notifique e oriente sobre este. Obrigado."
   ]
  },
  {
   "cell_type": "markdown",
   "id": "eca3273a-fe75-45ac-984e-9847de6589cc",
   "metadata": {},
   "source": []
  }
 ],
 "metadata": {
  "kernelspec": {
   "display_name": "Python 3 (ipykernel)",
   "language": "python",
   "name": "python3"
  },
  "language_info": {
   "codemirror_mode": {
    "name": "ipython",
    "version": 3
   },
   "file_extension": ".py",
   "mimetype": "text/x-python",
   "name": "python",
   "nbconvert_exporter": "python",
   "pygments_lexer": "ipython3",
   "version": "3.10.9"
  }
 },
 "nbformat": 4,
 "nbformat_minor": 5
}
