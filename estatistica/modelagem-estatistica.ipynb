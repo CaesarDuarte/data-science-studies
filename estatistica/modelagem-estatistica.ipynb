{
 "cells": [
  {
   "cell_type": "markdown",
   "id": "9e898a4f-b8e5-48d1-9194-286467997146",
   "metadata": {},
   "source": [
    "Nota do Autor: Este notebook sofrerá atualizações constantes até atingir sua versão **final**. Desta forma, se encontrar algum conteúdo incompleto peço que seja paciente e, caso encontre algum conteúdo equivocado, peço respeitosamente que me notifique e oriente sobre este. Obrigado."
   ]
  },
  {
   "cell_type": "markdown",
   "id": "c35a4e0a-7fbe-4408-8098-325f9bec2f23",
   "metadata": {
    "tags": []
   },
   "source": [
    "# Modelagem Estatística\n",
    "\n",
    "Neste notebook, exploraremos alguns conceitos e técnicas de modelagem estatística."
   ]
  },
  {
   "cell_type": "markdown",
   "id": "a9091f12-7caa-4272-bf4c-6d2f9c1c20dc",
   "metadata": {
    "tags": []
   },
   "source": [
    "## Tópico 1: Introdução à Modelagem Estatística\n",
    "\n",
    "Nesta seção, discutiremos os fundamentos da modelagem estatística e sua importância na análise de dados. Abordaremos conceitos como população, amostra, variáveis, medidas de tendência central e dispersão, além de explorar diferentes tipos de distribuições estatísticas."
   ]
  },
  {
   "cell_type": "markdown",
   "id": "5309480b-2cd2-4aac-bc0b-d8211bc1aeba",
   "metadata": {
    "jp-MarkdownHeadingCollapsed": true,
    "tags": []
   },
   "source": [
    "### O que é Modelagem Estatística?\n",
    "Antes de mais nada, é importante que saibamos, afinal, o que é a modelagem estatística, pois bem, de modo resumido temos que:<br> **\"A modelagem estatística é uma abordagem que utiliza métodos estatísticos para analisar e descrever dados, além de criar modelos para fazer previsões ou inferências.\"**<br>\n",
    "<br>E agora, antes de nos aprofundarmos, vamos ver alguns conceitos."
   ]
  },
  {
   "cell_type": "markdown",
   "id": "f2e07400-4c9a-4671-a0f1-a4c238d0245a",
   "metadata": {
    "tags": []
   },
   "source": [
    "### Conceitos Importantes\n",
    "Exploraremos aqui alguns conceitos importantes, dos quais considero o conhecimento essencial."
   ]
  },
  {
   "cell_type": "markdown",
   "id": "f1fae51f-73c4-4b5b-ac75-acbb25f031fa",
   "metadata": {
    "jp-MarkdownHeadingCollapsed": true,
    "tags": []
   },
   "source": [
    "#### Variável Aleatória\n"
   ]
  },
  {
   "cell_type": "markdown",
   "id": "336e3924-b11c-4f83-a89d-0b363c9ac1e2",
   "metadata": {},
   "source": [
    "A Variável Aleatória é a característica numérica de um determinado experimento (função que associa um número real a cada elemento do espaço amostral). Ou seja, trata-se das medidas que estão sendo estudadas."
   ]
  },
  {
   "cell_type": "markdown",
   "id": "1ff1982f-0893-49e0-8090-e37b7f46ea4a",
   "metadata": {
    "jp-MarkdownHeadingCollapsed": true,
    "tags": []
   },
   "source": [
    "#### Espaço Amostral\n"
   ]
  },
  {
   "cell_type": "markdown",
   "id": "fc2716e0-07d4-47c5-8c15-477d9703e853",
   "metadata": {},
   "source": [
    "O Espaço Amostral é o conjunto de todos os resultados possíveis de um experimento aleatório."
   ]
  },
  {
   "cell_type": "markdown",
   "id": "81cec2a0-0767-4942-ba4b-476a9f876a87",
   "metadata": {
    "jp-MarkdownHeadingCollapsed": true,
    "tags": []
   },
   "source": [
    "#### População"
   ]
  },
  {
   "cell_type": "markdown",
   "id": "abb874ff-9d85-476d-b684-97567ae58aa6",
   "metadata": {},
   "source": [
    "A população é o conjunto de todos os elementos ou indivíduos de interesse que possuem uma caracteríistica comum.<br>\n",
    "\n",
    "Por exemplo, se você está interessado em estudar a altura média de todas as mulheres adultas em um país, a população seria composta por todas as mulheres adultas nesse país.\n",
    "\n",
    "OBS.: Em muitos casos, a população é muito grande ou inacessível para ser estudada em sua totalidade. Portanto, é comum trabalharmos com uma amostra."
   ]
  },
  {
   "cell_type": "markdown",
   "id": "139f8271-98e2-4aeb-a2ba-d507992c7fa7",
   "metadata": {
    "jp-MarkdownHeadingCollapsed": true,
    "tags": []
   },
   "source": [
    "#### Amostra"
   ]
  },
  {
   "cell_type": "markdown",
   "id": "6714c1f3-6f75-42dc-ad4c-9921512dfa8a",
   "metadata": {},
   "source": [
    "Uma amostra é um subconjunto selecionado da população. É uma representação dos elementos da população que são escolhidos para estudo. A amostra deve ser selecionada de forma que seja representativa da população, para que as conclusões obtidas a partir da análise da amostra possam ser generalizadas para a população como um todo.<br>\n",
    "\n",
    "Em comparação ao exemplo acima, se para a população temos todas as mulheres adultas em um país, a fim de conseguirmos aferir algo, podemos selecionar 1000 mulheres, coletar a altura destas e realizar análises estatísticas para obter estimativas da altura média da população de mulheres adultas com base nos dados da **amostra**.\n",
    "\n",
    "Essas 1000 mulheres representariam a amostra.\n",
    "\n",
    "OBS.: Uma amostra deve ser cuidadosamente organizada, visto que para uma população muito grande, a representatividade da amostra é crucial! Temos que evitar vieses e garantir que ela seja verdadeiramente representativa da população de interesse, logo, saiba que uma amostra não é selecionada \"de qualquer jeito\". Aprenderemos melhor sobre os **métodos de amostragem** quando começarmos exercícios práticos."
   ]
  },
  {
   "cell_type": "markdown",
   "id": "a329d099-db7b-46ca-a106-3c6b441deac9",
   "metadata": {
    "tags": []
   },
   "source": [
    "### Distribuição Amostral"
   ]
  },
  {
   "cell_type": "markdown",
   "id": "cde550c6-d5ec-4fe6-a262-f886476c40b6",
   "metadata": {},
   "source": [
    "Uma distribuição amostral é uma distribuição que descreve as estatísticas calculadas a partir de **várias amostras** retiradas de **uma mesma população**. Em outras palavras, é a distribuição dos valores de uma determinada medida estatística, como a média, desvio padrão, proporção, entre outras, quando calculada repetidamente em diferentes amostras retiradas da população.\n",
    "\n",
    "A ideia da distribuição amostral é que, ao realizar múltiplas amostragens da mesma população, podemos obter uma variedade de valores para a estatística de interesse. Esses valores, quando organizados em uma distribuição, fornecem informações sobre a variabilidade e comportamento da estatística em questão.\n",
    "\n",
    "A distribuição amostral **é fundamental em inferência estatística, pois permite fazer inferências sobre a população com base nas informações obtidas a partir das amostras.** Por exemplo, ao calcular a média de diferentes amostras e observar a distribuição amostral das médias, podemos fazer inferências sobre a média populacional e estimar sua incerteza.\n",
    "\n",
    "Uma das principais teorias relacionadas à distribuição amostral é o **Teorema Central do Limite (TCL).** Esse teorema estabelece que, sob certas condições, quando o tamanho das amostras é suficientemente grande, a distribuição das médias amostrais segue uma distribuição normal, independentemente da forma da distribuição da população original. Esse resultado é muito útil, pois permite a aplicação de métodos estatísticos baseados na distribuição normal mesmo quando a distribuição da população não é conhecida.\n",
    "\n",
    "Para realizar uma Distribuição Amostral, é comum gerar várias amostras aleatórias da população e calcular a estatística de interesse em cada amostra. A distribuição dessas estatísticas é então analisada para obter informações sobre a variabilidade e o comportamento da estatística em questão.\n",
    "\n",
    "Em resumo: A distribuição amostral nos permite entender a variabilidade das estatísticas calculadas a partir de diferentes amostras e fornece a base para fazer inferências sobre a população com base nessas estatísticas amostrais."
   ]
  },
  {
   "cell_type": "markdown",
   "id": "9e7bc619-a48c-4a8d-9c3c-8a58b6cf74de",
   "metadata": {
    "jp-MarkdownHeadingCollapsed": true,
    "tags": []
   },
   "source": [
    "#### Média Aritmética "
   ]
  },
  {
   "cell_type": "markdown",
   "id": "cce63e7e-8330-47aa-88ee-5210d4fb9d49",
   "metadata": {},
   "source": [
    "Bem, você já deve ter ouvido falar da média aritmética, tanto na forma simples quanto na ponderada.\n",
    "\n",
    "A média aritmética de um conjunto de valores é obtida somando-se todos os elementos desse conjunto e dividindo o resultado pelo número de elementos. Matematicamente, podemos representar isso da seguinte forma: \n",
    "\n",
    "$\\bar{x} = \\frac{1}{n}\\sum_{i=1}^{n} x_i$\n",
    "\n",
    "Onde:\n",
    "- $\\bar{x}$ representa a média aritmética\n",
    "- $n$ é o número de elementos\n",
    "- $x_i$ são os valores individuais.\n",
    "\n",
    "Por exemplo, se considerarmos os 5 dias de uma semana e a quantidade de horas que uma pessoa lê em cada dia, podemos calcular a média das horas lidas na semana utilizando essa fórmula. Basta somar as horas de cada dia e dividir por 5, que é o número de dias na semana.\n",
    "\n",
    "Essa medida de média é amplamente utilizada em diferentes contextos, como calcular a média de notas de um estudante, a média de valores financeiros ou a média de temperaturas em diferentes dias.\n",
    "\n",
    "Além da média aritmética simples, existe também a média aritmética ponderada, que atribui pesos diferentes aos elementos do conjunto antes de calcular a média. Isso é útil quando certos elementos têm maior importância ou relevância do que outros na média final.\n",
    "\n",
    "Em resumo: **A média aritmética é uma medida comum para representar um valor médio em um conjunto de dados e pode ser calculada usando a fórmula mencionada acima.**\n"
   ]
  },
  {
   "cell_type": "markdown",
   "id": "fd1d3c7e-fb09-4bf0-8f09-5e3f00ce062e",
   "metadata": {
    "jp-MarkdownHeadingCollapsed": true,
    "tags": []
   },
   "source": [
    "#### Variância Amostral"
   ]
  },
  {
   "cell_type": "markdown",
   "id": "d7254d6d-9164-4f97-964f-a130d4a9f621",
   "metadata": {},
   "source": [
    "A Variância Amostral é uma medida estatística que indica a dispersão dos valores em uma amostra em relação à média amostral. Ela é calculada pela média dos quadrados das diferenças entre cada valor e a média amostral.\n",
    "\n",
    "Matematicamente, podemos representar a Variância Amostral da seguinte forma:\n",
    "\n",
    "$ s^2 = \\frac{1}{n-1} \\sum_{i=1}^{n} (x_i - \\bar{x})^2 $\n",
    "\n",
    "Onde:\n",
    "-  $ s^2 $ representa a Variância Amostral<br>\n",
    "- $ n $ é o tamanho da amostra<br>\n",
    "- $ x_i $ são os valores individuais da amostra<br>\n",
    "- $ \\bar{x} $ é a média amostral\n",
    "\n",
    "Por exemplo, se tivermos uma amostra de 10 valores, podemos calcular a Variância Amostral utilizando essa fórmula. Subtraímos cada valor pela média amostral, elevamos ao quadrado, somamos todos os resultados e dividimos por $( n-1 )$.\n",
    "\n",
    "A Variância Amostral é uma medida importante para avaliar a dispersão dos dados em relação à média amostral. Quanto maior o valor da Variância Amostral, maior a dispersão dos dados. Por outro lado, se a Variância Amostral for igual a zero, significa que todos os valores da amostra são iguais.\n",
    "\n",
    "É importante ressaltar que a Variância Amostral utiliza $( n-1 )$ no denominador em vez de $( n )$. Essa correção é conhecida como \"correção de Bessel\" e é usada para fornecer uma estimativa menos tendenciosa da variabilidade da população com base em uma amostra.\n",
    "\n",
    "Em resumo: **A Variância Amostral é uma medida estatística que indica a dispersão dos valores em uma amostra em relação à média amostral. Ela é calculada usando a fórmula mencionada acima, levando em consideração a correção de Bessel.**\n"
   ]
  },
  {
   "cell_type": "markdown",
   "id": "62b8843d-4226-4f7f-8a73-16d4c77be1b1",
   "metadata": {
    "jp-MarkdownHeadingCollapsed": true,
    "tags": []
   },
   "source": [
    "#### Desvio Padrão Amostral"
   ]
  },
  {
   "cell_type": "markdown",
   "id": "598a2708-ae92-4fcf-89af-f43988f69412",
   "metadata": {},
   "source": [
    "O Desvio Padrão Amostral é uma medida estatística que indica a dispersão dos valores em uma amostra em relação à média amostral. Ele é calculado como a raiz quadrada da Variância Amostral.\n",
    "\n",
    "Matematicamente, podemos representar o Desvio Padrão Amostral da seguinte forma:\n",
    "\n",
    "$ s = \\sqrt{\\frac{1}{n-1} \\sum_{i=1}^{n} (x_i - \\bar{x})^2} $\n",
    "\n",
    "Onde:\n",
    "- $ s $ representa o Desvio Padrão Amostral,\n",
    "- $ n $ é o tamanho da amostra, \n",
    "- $ x_i $ são os valores individuais da amostra \n",
    "- $ \\bar{x} $ é a média amostral.\n",
    "\n",
    "O Desvio Padrão Amostral é uma medida importante para avaliar a dispersão dos dados em relação à média amostral. Ele indica a variabilidade dos valores dentro da amostra. Quanto maior o valor do Desvio Padrão Amostral, maior a dispersão dos dados em relação à média. Por outro lado, se o Desvio Padrão Amostral for igual a zero, significa que todos os valores da amostra são iguais.\n",
    "\n",
    "Assim como a Variância Amostral, o Desvio Padrão Amostral também utiliza a \"correção de Bessel\" para fornecer uma estimativa menos tendenciosa da variabilidade da população com base em uma amostra.\n",
    "\n",
    "Em resumo: **O Desvio Padrão Amostral é uma medida estatística que indica a dispersão dos valores em uma amostra em relação à média amostral. Ele é calculado como a raiz quadrada da Variância Amostral e fornece informações sobre a variabilidade dos dados na amostra.**\n"
   ]
  },
  {
   "cell_type": "markdown",
   "id": "4b262256-dfee-4784-89e1-9805dca4f020",
   "metadata": {
    "tags": []
   },
   "source": [
    "#### Praticando: Distribuição amostral da média $\\bar{x}$"
   ]
  },
  {
   "cell_type": "markdown",
   "id": "c519f204-ec60-407a-8378-54871a45ff91",
   "metadata": {},
   "source": [
    "Imagine uma urna com quatro bolas numeradas de 1 a 4 e x como uma variável aleatória que registra o sorteio de uma dessas bolas.<br>\n",
    "\n",
    "Imaginemos agora, a retirada de forma independente e com reposição, de duas bolas x1 e x2.<br>\n",
    "\n",
    "Quais são os possíveis valores obtidos para a média ($\\bar{x}$) e qual a probabilidade de ocorrerem?\n",
    "\n",
    "Veja abaixo:"
   ]
  },
  {
   "cell_type": "code",
   "execution_count": null,
   "id": "d249905a-4c13-464f-914a-6b461a91f55c",
   "metadata": {},
   "outputs": [],
   "source": [
    "# O código abaixo possui a finalidade de detalhar ao máximo o exemplo acima, talvez os comentários aparentem óbvios, mas como um estudante iniciante\n",
    "# tento manter meus códigos o mais básico e compreensível sempre que for possível.\n",
    "\n",
    "import numpy as np\n",
    "import matplotlib.pyplot as plt\n",
    "\n",
    "# Possíveis valores das bolas (1 ou 2 ou 3 ou 4)\n",
    "bolas = np.array([1, 2, 3, 4])\n",
    "\n",
    "# Número de combinações possíveis (16)\n",
    "num_combinacoes = len(bolas) ** 2\n",
    "\n",
    "# Todas as combinações possíveis de duas bolas com reposição\n",
    "combinacoes = np.array(np.meshgrid(bolas, bolas)).T.reshape(-1, 2)\n",
    "# Calculemos a média para cada combinação\n",
    "medias = np.mean(combinacoes, axis=1)\n",
    "\n",
    "# Calculemos as frequências dos valores da média\n",
    "valores, frequencias = np.unique(medias, return_counts=True)\n",
    "\n",
    "# Calculemos as probabilidades\n",
    "probabilidades = frequencias / len(medias)\n",
    "\n",
    "# Imprimindo as combinações, resultados, médias e probabilidades\n",
    "contador_medias = 0\n",
    "for x1 in bolas:\n",
    "    for x2 in bolas:\n",
    "        print(f\"Para X1 = [{x1}] e X2 = [{x2}] a média é {medias[contador_medias]}\")\n",
    "        contador_medias += 1\n",
    "print('===========================================')\n",
    "print(\"Possíveis valores para a média (x-barra):\")\n",
    "for valor, probabilidade in zip(valores, probabilidades):\n",
    "    print(f\"Média x = {valor}: Probabilidade = {probabilidade:.4f}\")\n",
    "\n",
    "# Por fim, temos o plot do gráfico\n",
    "plt.bar(valores, probabilidades)\n",
    "plt.xlabel('Média x')\n",
    "plt.ylabel('Probabilidade')\n",
    "plt.title('Distribuição da Média x')\n",
    "plt.show()"
   ]
  },
  {
   "cell_type": "markdown",
   "id": "49f891a2-016e-4092-bdd5-8f947f6866d5",
   "metadata": {
    "jp-MarkdownHeadingCollapsed": true,
    "tags": []
   },
   "source": [
    "## Tópico 2: Análise de Variância (ANOVA)\n",
    "\n",
    "A análise de variância é uma técnica estatística utilizada para comparar médias entre grupos. Nesta seção, abordaremos os conceitos básicos da ANOVA, incluindo a decomposição da variabilidade, o teste de hipóteses e a interpretação dos resultados."
   ]
  },
  {
   "cell_type": "markdown",
   "id": "d6b62df5-71dd-46f1-928d-d8bb2d6e87c9",
   "metadata": {
    "tags": []
   },
   "source": [
    "### ANOVA de um fator\n",
    "\n",
    "Apresentaremos um exemplo prático de ANOVA de um fator, usando um conjunto de dados fictício. Demonstraremos como realizar a análise, interpretar os resultados e realizar testes de comparação entre médias.\n"
   ]
  },
  {
   "cell_type": "markdown",
   "id": "a299343f-32eb-4ee5-8d36-e63ac8f5655c",
   "metadata": {},
   "source": [
    "### ANOVA de dois fatores\n",
    "\n",
    "Daremos continuidade à nossa análise, desta vez utilizando a ANOVA de dois fatores de um modo bem compreensível."
   ]
  },
  {
   "cell_type": "markdown",
   "id": "c217eac3-5ebc-404f-b393-119733642aa3",
   "metadata": {
    "jp-MarkdownHeadingCollapsed": true,
    "tags": []
   },
   "source": [
    "## Tópico 3: Análise de Regressão\n",
    "Análise de regressão é um método estatístico que permite examinar a relação entre duas ou mais variáveis. Deste modo, identifica quais têm maior impacto diante de um tema de interesse.\n",
    "\n",
    "Este método permite classificar matematicamente por meio de diferentes perguntas, como: \n",
    "- Quais fatores são mais importantes? \n",
    "- Quais fatores podem ser ignorados? \n",
    "- Como esses fatores interagem uns com os outros?\n",
    "- Quão seguro você se sente de todos esses fatores?\n",
    "\n",
    "Existem diferentes tipos de Análises de Regressão e agora, nós entraremos em detalhes sobre cada um deles.\n"
   ]
  },
  {
   "cell_type": "markdown",
   "id": "a8ee25c6-14d4-4f30-bb18-a8f931626c27",
   "metadata": {
    "jp-MarkdownHeadingCollapsed": true,
    "tags": []
   },
   "source": [
    "### Regressão Linear\n"
   ]
  },
  {
   "cell_type": "markdown",
   "id": "7c874e86-f878-4ce2-a828-a94017ece9f4",
   "metadata": {},
   "source": [
    "A regressão linear é uma técnica amplamente utilizada na modelagem estatística para investigar a relação entre uma variável dependente e uma ou mais variáveis independentes. Nesta seção, exploraremos os conceitos básicos da regressão linear, incluindo a interpretação dos coeficientes, a avaliação da qualidade do modelo e a realização de previsões."
   ]
  },
  {
   "cell_type": "markdown",
   "id": "28967fd8-7b13-44d0-89d5-fe67508948d2",
   "metadata": {
    "tags": []
   },
   "source": [
    "#### Exemplo: Regressão Linear Simples\n",
    "\n",
    "Aqui, apresentaremos um exemplo prático de regressão linear simples, usando um conjunto de dados fictício. Vamos realizar as etapas de preparação dos dados, ajuste do modelo, avaliação de desempenho e interpretação dos resultados."
   ]
  },
  {
   "cell_type": "markdown",
   "id": "00da6414-99da-4b25-a7da-f30bd3120fcf",
   "metadata": {
    "tags": []
   },
   "source": [
    "### Regressão Linear Múltipla"
   ]
  },
  {
   "cell_type": "markdown",
   "id": "e020cad2-0218-4705-8c87-fabe9b57b348",
   "metadata": {},
   "source": [
    "#### Exemplo: Regressão Linear Múltipla\n",
    "\n",
    "Aqui, apresentaremos um exemplo prático de regressão linear múltipla, usando um conjunto de dados fictício. Vamos realizar as etapas de preparação dos dados, ajuste do modelo, avaliação de desempenho e interpretação dos resultados."
   ]
  },
  {
   "cell_type": "markdown",
   "id": "bb0461df-91cb-433f-91de-7f946bf1e111",
   "metadata": {
    "tags": []
   },
   "source": [
    "### Regressão Não-Linear"
   ]
  },
  {
   "cell_type": "markdown",
   "id": "10f2a8e4-7502-4e8d-8c9e-40dc9af7c841",
   "metadata": {
    "tags": []
   },
   "source": [
    "#### Exemplo: Regressão Não-Linear\n",
    "\n",
    "Aqui, apresentaremos um exemplo prático de regressão linear múltipla, usando um conjunto de dados fictício. Vamos realizar as etapas de preparação dos dados, ajuste do modelo, avaliação de desempenho e interpretação dos resultados."
   ]
  }
 ],
 "metadata": {
  "kernelspec": {
   "display_name": "Python 3 (ipykernel)",
   "language": "python",
   "name": "python3"
  },
  "language_info": {
   "codemirror_mode": {
    "name": "ipython",
    "version": 3
   },
   "file_extension": ".py",
   "mimetype": "text/x-python",
   "name": "python",
   "nbconvert_exporter": "python",
   "pygments_lexer": "ipython3",
   "version": "3.10.9"
  }
 },
 "nbformat": 4,
 "nbformat_minor": 5
}
