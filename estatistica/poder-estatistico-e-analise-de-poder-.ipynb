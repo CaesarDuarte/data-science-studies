{
 "cells": [
  {
   "cell_type": "markdown",
   "id": "a8c989a4-0d8a-4b49-b11b-9ed6b8d304bd",
   "metadata": {},
   "source": [
    "Nota do Autor: Este notebook sofrerá atualizações constantes até atingir sua versão **final**. Desta forma, se encontrar algum conteúdo incompleto peço que seja paciente e, caso encontre algum conteúdo equivocado, peço respeitosamente que me notifique e oriente sobre este. Obrigado."
   ]
  },
  {
   "cell_type": "markdown",
   "id": "63de0322-9863-41ed-a61d-1cab6917d2a6",
   "metadata": {},
   "source": [
    "# Poder Estatístico e Análise de Poder\n",
    "\n",
    "Neste notebook, exploraremos o conceito de **Poder Estatístico**, elemento essencial em um teste de hipóteses.\n"
   ]
  },
  {
   "cell_type": "markdown",
   "id": "e52f89a1-4f9f-45c0-937e-b1712254ef41",
   "metadata": {
    "tags": []
   },
   "source": [
    "## Poder Estatístico? O que é isso?"
   ]
  },
  {
   "cell_type": "markdown",
   "id": "92bd583f-76dc-43ef-a845-ea89e56a29bb",
   "metadata": {},
   "source": [
    "Poder estatístico nada mais é do que um indicador utilizado em um **teste de hipóteses** que significa a *probabilidade* de detectar um *efeito* - *se realmente **houver*** - no devido teste."
   ]
  },
  {
   "cell_type": "markdown",
   "id": "fc336d37-e6ef-4bba-a601-d629ab70f8a5",
   "metadata": {},
   "source": [
    "O *Poder Estatístico* nos permite comentar a confiança em que podemos ter nas conclusões que tiradas dos resultados do estudo. Nós também podemos utilizá-lo como uma ferramenta para estimar o **número de observações** ou o **tamanho da amostra** necessária para decetar um efeito em um experimento."
   ]
  },
  {
   "cell_type": "markdown",
   "id": "7c42c7a4-233b-411a-8ac8-2939cbd1b1e6",
   "metadata": {},
   "source": [
    "Em outras palavras, serve como uma maneira de perceber se os resultados do seu teste são verdadeiros ou estão errados devido ao acaso/aleatoriedade."
   ]
  },
  {
   "cell_type": "markdown",
   "id": "55931b57-25b1-470c-b0ad-b5e46e3fc1df",
   "metadata": {},
   "source": [
    "## Teste de Hipótese Estatística"
   ]
  },
  {
   "cell_type": "markdown",
   "id": "d45b0616-205c-4e64-aca5-d69c290760da",
   "metadata": {},
   "source": [
    "Um teste de hipótese estatística ou meramente, um teste de hipóteses, faz uma suposição sobre o resultado, o que chamamos de **hipótese nula**, pois é de interesse testá-la e verificar se esta é falsa.\n",
    "\n",
    "\"Mas espera! Como assim vou testar uma hipótese só pra saber se ela é falsa? Não seria perda de tempo?\"\n",
    "\n",
    "Muito pelo contrário, na ciência, **dificilmente um resultado será considerado de primeira**, isso também se aplica à Estatística. Por este motivo, o teste é frequentemente interpretado usado um p-valor (p) que é a probabilidade de observar o resultado dado que a hipótese nula é verdadeira."
   ]
  },
  {
   "cell_type": "markdown",
   "id": "a9298ce5-0ec7-4653-999d-52856dec54b4",
   "metadata": {},
   "source": [
    "> p-valor (p): É a probabilidade de obter um resultado igual ou mais extremo do que o observado nos dados."
   ]
  },
  {
   "cell_type": "markdown",
   "id": "4de5ce75-a607-4dc5-87bc-30ef849bc2af",
   "metadata": {},
   "source": [
    "Ao interpretar o p-valor de um teste de significância, devemos especificar um nível de significância, muitas vezes isso é referido com a letra grega alfa em minúsculo (α). Um valor comum para o nível de significância é de 5%, que é escrito como 0.05."
   ]
  },
  {
   "cell_type": "markdown",
   "id": "3ad127be-7138-4800-a427-a396bc878088",
   "metadata": {},
   "source": [
    "O p-valor está interessado no contexto do nível de significância escolhido. Um resultado de um teste de significância é considerado \"estatisticamente significativo\" se o p-valor for menor que o nível de significância. Isso significa que a hipótese nula (que não possui resultados) é rejeitada."
   ]
  }
 ],
 "metadata": {
  "kernelspec": {
   "display_name": "Python 3 (ipykernel)",
   "language": "python",
   "name": "python3"
  },
  "language_info": {
   "codemirror_mode": {
    "name": "ipython",
    "version": 3
   },
   "file_extension": ".py",
   "mimetype": "text/x-python",
   "name": "python",
   "nbconvert_exporter": "python",
   "pygments_lexer": "ipython3",
   "version": "3.10.9"
  }
 },
 "nbformat": 4,
 "nbformat_minor": 5
}
