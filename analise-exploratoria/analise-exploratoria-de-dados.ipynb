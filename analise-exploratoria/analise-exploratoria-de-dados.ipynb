{
 "cells": [
  {
   "cell_type": "markdown",
   "id": "34847e17-d90a-47af-941f-a1d9a7cd55bd",
   "metadata": {},
   "source": [
    "Nota do Autor: Este notebook sofrerá atualizações constantes até atingir sua versão **final** (desculpe, chatgpt). Desta forma, se encontrar algum conteúdo incompleto, peço que seja paciente e, caso encontre algum conteúdo equivocado, peço respeitosamente que me notifique e oriente sobre este. Obrigado.\n",
    "\n",
    "**Última modificação**: 18/12/2023"
   ]
  },
  {
   "cell_type": "markdown",
   "id": "4fa898b9-5bd5-4049-a5d3-d6852c284ec3",
   "metadata": {},
   "source": [
    "# <span style=\"color:#6d6a60\"> Análise Exploratória de Dados </span>\n",
    "\n",
    "# <span style=\"color:#6d6a60\"> Índice </span>\n",
    "* [1. Sobre este Notebook](#sec_1)\n",
    "* [2. Introdução](#sec_2)\n",
    "    * [2.1 Sobre AED](#sec_2_1)\n",
    "    * [2.2 Conceitos Iniciais](#sec_2_2)\n",
    "* [3. AED na Prática](#sec_3)\n",
    "    * [3.1 Importação de Bibliotecas e Comandos Básicos](#sec_3_1)\n",
    "    * [3.2 Tipos de Variáveis](#sec_3_2)\n",
    "    * [3.3 Representação Numérica (Adicional)](#sec_3_3)\n",
    "    * [3.4 TODO](#sec_3_4)\n",
    "    * [3.5 TODO](#x_3_5)\n",
    "* [4. TODO](#x_3)\n",
    "    * [4.1 TODO](#x_4_1)\n",
    "    * [4.2 TODO](#x_4_2)\n",
    "    * [4.3 TODO](#x_4_3)\n",
    "    * [4.4 TODO](#x_4_4)\n",
    "* [5. TODO](#x_5)\n",
    "    * [5.1 TODO](#x_5_1)\n",
    "    * [5.2 TODO](#x_5_2)\n",
    "    * [5.3 TODO](#x_5_3)\n",
    "* [6. TODO](#x_6)"
   ]
  },
  {
   "cell_type": "markdown",
   "id": "5f02eb2c-23ce-475f-9599-99f6c381ae2d",
   "metadata": {
    "jp-MarkdownHeadingCollapsed": true,
    "tags": []
   },
   "source": [
    "# <span style=\"color:#6d6a60\"> 1. Sobre este Notebook </span> <a class=\"anchor\" id=\"sec_1\"></a>\n",
    "\n",
    "Olá, seja muito bem-vindo (a)! Fico feliz em compartilhar um pouco sobre meus estudos com vossa pessoa!\n",
    "\n",
    "Caso não tenha ficado claro, este, assim como inúmeros outros notebooks presentes no repositório principal, possui a finalidade de complementar meus estudos\n",
    "por meio da promoção de um estudo ativo, ao mesmo tempo que me permita praticar variados conceitos, desde matemáticos aos referentes à programação.\n",
    "\n",
    "O acesso deste notebook será sempre **livre** e **gratuito**. Eu pretendo atualizá-lo, em prazos que podem variar, até que obtenha uma versão considerada por mim como **final**.\n",
    "\n",
    "Bons estudos!"
   ]
  },
  {
   "cell_type": "markdown",
   "id": "3587ce06-724a-45ab-8de3-2c5ba1bb961b",
   "metadata": {
    "jp-MarkdownHeadingCollapsed": true,
    "tags": []
   },
   "source": [
    "# <span style=\"color:#6d6a60\"> 2. Introdução </span> <a class=\"anchor\" id=\"sec_2\"></a>"
   ]
  },
  {
   "cell_type": "markdown",
   "id": "7417a3d6-076d-448a-83a5-6b27479e0560",
   "metadata": {
    "jp-MarkdownHeadingCollapsed": true,
    "tags": []
   },
   "source": [
    "### <span style=\"color:#6d6a60\"> 2.1 Sobre AED </span> <a class=\"anchor\" id=\"sec_2_1\"></a>\n",
    "\n",
    "A Análise Exploratória de Dados (AED) se trata de uma ferramenta que apresenta como base a **Estatística** para a realização de um estudo avançado sobre dados de modo a extrair algum **Insight** destes. Estes insights, a depender de quais sejam, poderão ser utilizados para inúmeras finalidades, tais como: redução de custos em uma empresa, aumento de eficiência em um serviço, descoberta de padrões de consumo, entre muito outros."
   ]
  },
  {
   "cell_type": "markdown",
   "id": "288112c7-f44a-4baf-8d75-156f9ff97ead",
   "metadata": {
    "jp-MarkdownHeadingCollapsed": true,
    "tags": []
   },
   "source": [
    "### <span style=\"color:#6d6a60\"> 2.2 Conceitos Iniciais </span> <a class=\"anchor\" id=\"sec_2_2\"></a>\n",
    "\n",
    "Antes de adrentarmos em aspectos práticos, considero importante a compreensão de alguns conceitos, para tanto, irei propor uma situação fictícia:\n",
    "\n",
    "Uma instituição de ensino deseja realizar em um de seus polos de estudo uma pesquisa de modo a conferir como se dá a preferência de seus alunos em uma modalidade de esporte, a instituição possui o acesso de todas as fichas estudantis, possuindo desta forma os dados referentes a: **idade, sexo, nome, turma, pontuações bimestrais**, entre outros dados.\n",
    "\n",
    "O polo em questão da instituição possui cerca de **450** alunos, porém, a instituição fará a pesquisa na turma A, com cerca de **48** integrantes.\n",
    "\n",
    "Com base no exposto acima, temos:\n",
    "\n",
    "**Estatística**: Trata-se de um ramo multidisciplinar da matemática que possui como principal foco a exploração da função, correlação e significância de um dado. Deste modo, em Ciência de Dados, a Estatística nos ajuda a entender padrões e tendências nos dados. Por exemplo, podemos usar estatísticas descritivas para resumir a preferência esportiva da turma.\n",
    "\n",
    "**Característica (dado)**: Trata-se de um determinado dado pertencente a um registro, no caso acima, idade, sexo, nome, turma e pontuações são características. No contexto da preferência esportiva, poderíamos analisar características específicas, como a frequência de participação em eventos esportivos.\n",
    "\n",
    "**Insight**: Refere-se à descoberta obtida após a exploração de um determinado dado por meio de análise. Ao analisar essas características, podemos obter insights valiosos. Por exemplo, podemos descobrir que os alunos com melhores pontuações bimestrais têm uma preferência esportiva específica.\n",
    "\n",
    "**População**: Refere-se a todo o conjunto de registros da característica de interesse, que neste caso seriam todos os alunos da instituição, isto é os 450 alunos.\n",
    "\n",
    "**Amostra**: Refere-se a **qualquer** subconjunto da população. As amostras são utilizadas pois frequentemente não é viável/possível realizar uma pesquisa com toda a população (imagine questionar todos os alunos do Brasil). No caso acima, os 48 alunos da turma A compõem a amostra.\n"
   ]
  },
  {
   "cell_type": "markdown",
   "id": "f313a56c-d4ba-4a52-aaa1-696cd2cbfcc5",
   "metadata": {},
   "source": [
    "# <span style=\"color:#6d6a60\"> 3. AED na Prática</span> <a class=\"anchor\" id=\"sec_3\"></a>"
   ]
  },
  {
   "cell_type": "markdown",
   "id": "bdf1b979-9160-48e4-8044-ab8510581b07",
   "metadata": {
    "jp-MarkdownHeadingCollapsed": true,
    "tags": []
   },
   "source": [
    "### <span style=\"color:#6d6a60\"> 3.1 Importação de Bibliotecas e Comandos Básicos </span> <a class=\"anchor\" id=\"sec_3_1\"></a>"
   ]
  },
  {
   "cell_type": "code",
   "execution_count": 1,
   "id": "62f8bd6e-d6d5-4a60-9d61-7cde0c12c4ca",
   "metadata": {
    "tags": []
   },
   "outputs": [],
   "source": [
    "import pandas as pd # Usaremos a biblioteca pandas para a manipulação de nosso conjunto de dados\n",
    "import numpy as np # Usaremos a biblioteca numpy para operações matemáticas\n",
    "\n",
    "# Abaixo segue o dataframe que será utilizado como introdução ao estudo.\n",
    "\n",
    "dados = \"dados_alunos.csv\""
   ]
  },
  {
   "cell_type": "code",
   "execution_count": 2,
   "id": "acb8e5e5-8f97-4cf5-8b6f-b156572bc706",
   "metadata": {},
   "outputs": [],
   "source": [
    "# Criando um dataframe e realizando a leitura do dataset\n",
    "\n",
    "df = pd.read_csv(dados)"
   ]
  },
  {
   "cell_type": "code",
   "execution_count": 3,
   "id": "77ffb0ec-9cac-49ee-90db-1e1b52cc86fd",
   "metadata": {
    "tags": []
   },
   "outputs": [
    {
     "data": {
      "text/html": [
       "<div>\n",
       "<style scoped>\n",
       "    .dataframe tbody tr th:only-of-type {\n",
       "        vertical-align: middle;\n",
       "    }\n",
       "\n",
       "    .dataframe tbody tr th {\n",
       "        vertical-align: top;\n",
       "    }\n",
       "\n",
       "    .dataframe thead th {\n",
       "        text-align: right;\n",
       "    }\n",
       "</style>\n",
       "<table border=\"1\" class=\"dataframe\">\n",
       "  <thead>\n",
       "    <tr style=\"text-align: right;\">\n",
       "      <th></th>\n",
       "      <th>genero</th>\n",
       "      <th>grupo_etnico</th>\n",
       "      <th>nivel_educacao_pais</th>\n",
       "      <th>tipo_de_bolsa</th>\n",
       "      <th>fez_curso_preparatorio</th>\n",
       "      <th>pontuacao_matematica</th>\n",
       "      <th>pontuacao_leitura</th>\n",
       "      <th>pontuacao_escrita</th>\n",
       "    </tr>\n",
       "  </thead>\n",
       "  <tbody>\n",
       "    <tr>\n",
       "      <th>0</th>\n",
       "      <td>homem</td>\n",
       "      <td>grupo_B</td>\n",
       "      <td>ensino_superior_completo</td>\n",
       "      <td>padrao</td>\n",
       "      <td>N</td>\n",
       "      <td>84</td>\n",
       "      <td>88</td>\n",
       "      <td>90</td>\n",
       "    </tr>\n",
       "    <tr>\n",
       "      <th>1</th>\n",
       "      <td>mulher</td>\n",
       "      <td>grupo_D</td>\n",
       "      <td>ensino_medio</td>\n",
       "      <td>gratuita</td>\n",
       "      <td>N</td>\n",
       "      <td>55</td>\n",
       "      <td>76</td>\n",
       "      <td>70</td>\n",
       "    </tr>\n",
       "    <tr>\n",
       "      <th>2</th>\n",
       "      <td>mulher</td>\n",
       "      <td>grupo_A</td>\n",
       "      <td>ensino_fundamental</td>\n",
       "      <td>padrao</td>\n",
       "      <td>S</td>\n",
       "      <td>46</td>\n",
       "      <td>66</td>\n",
       "      <td>67</td>\n",
       "    </tr>\n",
       "    <tr>\n",
       "      <th>3</th>\n",
       "      <td>mulher</td>\n",
       "      <td>grupo_E</td>\n",
       "      <td>ensino_superior_completo</td>\n",
       "      <td>padrao</td>\n",
       "      <td>N</td>\n",
       "      <td>90</td>\n",
       "      <td>82</td>\n",
       "      <td>88</td>\n",
       "    </tr>\n",
       "    <tr>\n",
       "      <th>4</th>\n",
       "      <td>mulher</td>\n",
       "      <td>grupo_D</td>\n",
       "      <td>ensino_superior_incompleto</td>\n",
       "      <td>padrao</td>\n",
       "      <td>N</td>\n",
       "      <td>58</td>\n",
       "      <td>55</td>\n",
       "      <td>60</td>\n",
       "    </tr>\n",
       "  </tbody>\n",
       "</table>\n",
       "</div>"
      ],
      "text/plain": [
       "   genero grupo_etnico         nivel_educacao_pais tipo_de_bolsa  \\\n",
       "0   homem      grupo_B    ensino_superior_completo        padrao   \n",
       "1  mulher      grupo_D                ensino_medio      gratuita   \n",
       "2  mulher      grupo_A          ensino_fundamental        padrao   \n",
       "3  mulher      grupo_E    ensino_superior_completo        padrao   \n",
       "4  mulher      grupo_D  ensino_superior_incompleto        padrao   \n",
       "\n",
       "  fez_curso_preparatorio  pontuacao_matematica  pontuacao_leitura  \\\n",
       "0                      N                    84                 88   \n",
       "1                      N                    55                 76   \n",
       "2                      S                    46                 66   \n",
       "3                      N                    90                 82   \n",
       "4                      N                    58                 55   \n",
       "\n",
       "   pontuacao_escrita  \n",
       "0                 90  \n",
       "1                 70  \n",
       "2                 67  \n",
       "3                 88  \n",
       "4                 60  "
      ]
     },
     "execution_count": 3,
     "metadata": {},
     "output_type": "execute_result"
    }
   ],
   "source": [
    "# Visualizando as 5 primeiras linhas do dataframe (note que se inicia no índice 0)\n",
    "\n",
    "df.head()"
   ]
  },
  {
   "cell_type": "code",
   "execution_count": 4,
   "id": "c73dfd0b-6ab0-49bc-9996-e999d1b1cb3b",
   "metadata": {
    "tags": []
   },
   "outputs": [
    {
     "data": {
      "text/html": [
       "<div>\n",
       "<style scoped>\n",
       "    .dataframe tbody tr th:only-of-type {\n",
       "        vertical-align: middle;\n",
       "    }\n",
       "\n",
       "    .dataframe tbody tr th {\n",
       "        vertical-align: top;\n",
       "    }\n",
       "\n",
       "    .dataframe thead th {\n",
       "        text-align: right;\n",
       "    }\n",
       "</style>\n",
       "<table border=\"1\" class=\"dataframe\">\n",
       "  <thead>\n",
       "    <tr style=\"text-align: right;\">\n",
       "      <th></th>\n",
       "      <th>genero</th>\n",
       "      <th>grupo_etnico</th>\n",
       "      <th>nivel_educacao_pais</th>\n",
       "      <th>tipo_de_bolsa</th>\n",
       "      <th>fez_curso_preparatorio</th>\n",
       "      <th>pontuacao_matematica</th>\n",
       "      <th>pontuacao_leitura</th>\n",
       "      <th>pontuacao_escrita</th>\n",
       "    </tr>\n",
       "  </thead>\n",
       "  <tbody>\n",
       "    <tr>\n",
       "      <th>4995</th>\n",
       "      <td>homem</td>\n",
       "      <td>grupo_C</td>\n",
       "      <td>ensino_medio</td>\n",
       "      <td>padrao</td>\n",
       "      <td>N</td>\n",
       "      <td>80</td>\n",
       "      <td>78</td>\n",
       "      <td>65</td>\n",
       "    </tr>\n",
       "    <tr>\n",
       "      <th>4996</th>\n",
       "      <td>mulher</td>\n",
       "      <td>grupo_B</td>\n",
       "      <td>ensino_medio</td>\n",
       "      <td>padrao</td>\n",
       "      <td>S</td>\n",
       "      <td>56</td>\n",
       "      <td>65</td>\n",
       "      <td>69</td>\n",
       "    </tr>\n",
       "    <tr>\n",
       "      <th>4997</th>\n",
       "      <td>mulher</td>\n",
       "      <td>grupo_C</td>\n",
       "      <td>ensino_medio</td>\n",
       "      <td>padrao</td>\n",
       "      <td>N</td>\n",
       "      <td>72</td>\n",
       "      <td>74</td>\n",
       "      <td>70</td>\n",
       "    </tr>\n",
       "    <tr>\n",
       "      <th>4998</th>\n",
       "      <td>mulher</td>\n",
       "      <td>grupo_C</td>\n",
       "      <td>ensino_superior_completo</td>\n",
       "      <td>padrao</td>\n",
       "      <td>S</td>\n",
       "      <td>72</td>\n",
       "      <td>84</td>\n",
       "      <td>86</td>\n",
       "    </tr>\n",
       "    <tr>\n",
       "      <th>4999</th>\n",
       "      <td>homem</td>\n",
       "      <td>grupo_C</td>\n",
       "      <td>ensino_superior_completo</td>\n",
       "      <td>padrao</td>\n",
       "      <td>S</td>\n",
       "      <td>74</td>\n",
       "      <td>73</td>\n",
       "      <td>71</td>\n",
       "    </tr>\n",
       "  </tbody>\n",
       "</table>\n",
       "</div>"
      ],
      "text/plain": [
       "      genero grupo_etnico       nivel_educacao_pais tipo_de_bolsa  \\\n",
       "4995   homem      grupo_C              ensino_medio        padrao   \n",
       "4996  mulher      grupo_B              ensino_medio        padrao   \n",
       "4997  mulher      grupo_C              ensino_medio        padrao   \n",
       "4998  mulher      grupo_C  ensino_superior_completo        padrao   \n",
       "4999   homem      grupo_C  ensino_superior_completo        padrao   \n",
       "\n",
       "     fez_curso_preparatorio  pontuacao_matematica  pontuacao_leitura  \\\n",
       "4995                      N                    80                 78   \n",
       "4996                      S                    56                 65   \n",
       "4997                      N                    72                 74   \n",
       "4998                      S                    72                 84   \n",
       "4999                      S                    74                 73   \n",
       "\n",
       "      pontuacao_escrita  \n",
       "4995                 65  \n",
       "4996                 69  \n",
       "4997                 70  \n",
       "4998                 86  \n",
       "4999                 71  "
      ]
     },
     "execution_count": 4,
     "metadata": {},
     "output_type": "execute_result"
    }
   ],
   "source": [
    "# Visualizando as 5 últimas linhas do dataframe\n",
    "df.tail()"
   ]
  },
  {
   "cell_type": "code",
   "execution_count": 5,
   "id": "eb1bf526-a6d5-498d-a3cc-0bfd4c44302c",
   "metadata": {
    "tags": []
   },
   "outputs": [
    {
     "data": {
      "text/plain": [
       "(5000, 8)"
      ]
     },
     "execution_count": 5,
     "metadata": {},
     "output_type": "execute_result"
    }
   ],
   "source": [
    "# Visualizando a dimensão do dataframe (linhas, colunas)\n",
    "df.shape"
   ]
  },
  {
   "cell_type": "code",
   "execution_count": 6,
   "id": "6e469cf2-b4f5-4a71-9283-358b71550b0e",
   "metadata": {
    "tags": []
   },
   "outputs": [
    {
     "name": "stdout",
     "output_type": "stream",
     "text": [
      "<class 'pandas.core.frame.DataFrame'>\n",
      "RangeIndex: 5000 entries, 0 to 4999\n",
      "Data columns (total 8 columns):\n",
      " #   Column                  Non-Null Count  Dtype \n",
      "---  ------                  --------------  ----- \n",
      " 0   genero                  5000 non-null   object\n",
      " 1   grupo_etnico            5000 non-null   object\n",
      " 2   nivel_educacao_pais     5000 non-null   object\n",
      " 3   tipo_de_bolsa           5000 non-null   object\n",
      " 4   fez_curso_preparatorio  5000 non-null   object\n",
      " 5   pontuacao_matematica    5000 non-null   int64 \n",
      " 6   pontuacao_leitura       5000 non-null   int64 \n",
      " 7   pontuacao_escrita       5000 non-null   int64 \n",
      "dtypes: int64(3), object(5)\n",
      "memory usage: 312.6+ KB\n"
     ]
    }
   ],
   "source": [
    "# Visualizando as informações gerais dos dados\n",
    "df.info()"
   ]
  },
  {
   "cell_type": "code",
   "execution_count": 7,
   "id": "4d682ac9-9d6b-4ded-a4c6-2ec5a318e778",
   "metadata": {
    "tags": []
   },
   "outputs": [
    {
     "data": {
      "text/plain": [
       "genero                    object\n",
       "grupo_etnico              object\n",
       "nivel_educacao_pais       object\n",
       "tipo_de_bolsa             object\n",
       "fez_curso_preparatorio    object\n",
       "pontuacao_matematica       int64\n",
       "pontuacao_leitura          int64\n",
       "pontuacao_escrita          int64\n",
       "dtype: object"
      ]
     },
     "execution_count": 7,
     "metadata": {},
     "output_type": "execute_result"
    }
   ],
   "source": [
    "# Visualizando o tipo de dado de cada coluna\n",
    "df.dtypes"
   ]
  },
  {
   "cell_type": "code",
   "execution_count": 8,
   "id": "c0a7bffc-b7a1-446f-aaac-6b2fdb023d44",
   "metadata": {
    "tags": []
   },
   "outputs": [
    {
     "data": {
      "text/html": [
       "<div>\n",
       "<style scoped>\n",
       "    .dataframe tbody tr th:only-of-type {\n",
       "        vertical-align: middle;\n",
       "    }\n",
       "\n",
       "    .dataframe tbody tr th {\n",
       "        vertical-align: top;\n",
       "    }\n",
       "\n",
       "    .dataframe thead th {\n",
       "        text-align: right;\n",
       "    }\n",
       "</style>\n",
       "<table border=\"1\" class=\"dataframe\">\n",
       "  <thead>\n",
       "    <tr style=\"text-align: right;\">\n",
       "      <th></th>\n",
       "      <th>pontuacao_matematica</th>\n",
       "      <th>pontuacao_leitura</th>\n",
       "      <th>pontuacao_escrita</th>\n",
       "    </tr>\n",
       "  </thead>\n",
       "  <tbody>\n",
       "    <tr>\n",
       "      <th>count</th>\n",
       "      <td>5000.000000</td>\n",
       "      <td>5000.000000</td>\n",
       "      <td>5000.00000</td>\n",
       "    </tr>\n",
       "    <tr>\n",
       "      <th>mean</th>\n",
       "      <td>66.792000</td>\n",
       "      <td>69.691800</td>\n",
       "      <td>68.48320</td>\n",
       "    </tr>\n",
       "    <tr>\n",
       "      <th>std</th>\n",
       "      <td>15.411004</td>\n",
       "      <td>14.844611</td>\n",
       "      <td>15.51239</td>\n",
       "    </tr>\n",
       "    <tr>\n",
       "      <th>min</th>\n",
       "      <td>12.000000</td>\n",
       "      <td>12.000000</td>\n",
       "      <td>7.00000</td>\n",
       "    </tr>\n",
       "    <tr>\n",
       "      <th>25%</th>\n",
       "      <td>56.000000</td>\n",
       "      <td>60.000000</td>\n",
       "      <td>58.00000</td>\n",
       "    </tr>\n",
       "    <tr>\n",
       "      <th>50%</th>\n",
       "      <td>67.000000</td>\n",
       "      <td>70.000000</td>\n",
       "      <td>69.00000</td>\n",
       "    </tr>\n",
       "    <tr>\n",
       "      <th>75%</th>\n",
       "      <td>78.000000</td>\n",
       "      <td>80.000000</td>\n",
       "      <td>80.00000</td>\n",
       "    </tr>\n",
       "    <tr>\n",
       "      <th>max</th>\n",
       "      <td>100.000000</td>\n",
       "      <td>100.000000</td>\n",
       "      <td>100.00000</td>\n",
       "    </tr>\n",
       "  </tbody>\n",
       "</table>\n",
       "</div>"
      ],
      "text/plain": [
       "       pontuacao_matematica  pontuacao_leitura  pontuacao_escrita\n",
       "count           5000.000000        5000.000000         5000.00000\n",
       "mean              66.792000          69.691800           68.48320\n",
       "std               15.411004          14.844611           15.51239\n",
       "min               12.000000          12.000000            7.00000\n",
       "25%               56.000000          60.000000           58.00000\n",
       "50%               67.000000          70.000000           69.00000\n",
       "75%               78.000000          80.000000           80.00000\n",
       "max              100.000000         100.000000          100.00000"
      ]
     },
     "execution_count": 8,
     "metadata": {},
     "output_type": "execute_result"
    }
   ],
   "source": [
    "# Visualizando as estatísticas de cada coluna\n",
    "df.describe()"
   ]
  },
  {
   "cell_type": "code",
   "execution_count": 9,
   "id": "57574fb0-3857-4768-8bd4-309842fcded1",
   "metadata": {
    "tags": []
   },
   "outputs": [
    {
     "data": {
      "text/plain": [
       "0        homem\n",
       "1       mulher\n",
       "2       mulher\n",
       "3       mulher\n",
       "4       mulher\n",
       "         ...  \n",
       "4995     homem\n",
       "4996    mulher\n",
       "4997    mulher\n",
       "4998    mulher\n",
       "4999     homem\n",
       "Name: genero, Length: 5000, dtype: object"
      ]
     },
     "execution_count": 9,
     "metadata": {},
     "output_type": "execute_result"
    }
   ],
   "source": [
    "# Acessando diretamente dados uma coluna - método 1\n",
    "df.genero"
   ]
  },
  {
   "cell_type": "code",
   "execution_count": 10,
   "id": "b31aa0ff-6635-4906-abff-e89a2b15b572",
   "metadata": {
    "tags": []
   },
   "outputs": [
    {
     "data": {
      "text/plain": [
       "0        homem\n",
       "1       mulher\n",
       "2       mulher\n",
       "3       mulher\n",
       "4       mulher\n",
       "         ...  \n",
       "4995     homem\n",
       "4996    mulher\n",
       "4997    mulher\n",
       "4998    mulher\n",
       "4999     homem\n",
       "Name: genero, Length: 5000, dtype: object"
      ]
     },
     "execution_count": 10,
     "metadata": {},
     "output_type": "execute_result"
    }
   ],
   "source": [
    "# Acessando diretamente dados uma coluna - método 2 (mais utilizado para alterar dados)\n",
    "df['genero']"
   ]
  },
  {
   "cell_type": "code",
   "execution_count": 11,
   "id": "b51f1c70-3784-4bae-88af-5e07a12079fd",
   "metadata": {
    "tags": []
   },
   "outputs": [
    {
     "data": {
      "text/plain": [
       "array(['homem', 'mulher'], dtype=object)"
      ]
     },
     "execution_count": 11,
     "metadata": {},
     "output_type": "execute_result"
    }
   ],
   "source": [
    "# Encontrando valores únicos de uma coluna\n",
    "df.genero.unique()\n",
    "\n",
    "#df['genero'].unique() # Modo alternativo"
   ]
  },
  {
   "cell_type": "code",
   "execution_count": 12,
   "id": "848f63e4-61ae-4382-b2c1-b3b26cc698bc",
   "metadata": {
    "tags": []
   },
   "outputs": [
    {
     "data": {
      "text/plain": [
       "2"
      ]
     },
     "execution_count": 12,
     "metadata": {},
     "output_type": "execute_result"
    }
   ],
   "source": [
    "# E podemos realizar a contagem de valores únicos\n",
    "df.genero.nunique()\n",
    "\n",
    "#df['genero'].nunique() # Modo alternativo"
   ]
  },
  {
   "cell_type": "code",
   "execution_count": 13,
   "id": "4b98c63f-7dd0-408c-9692-2b0fe9aa7f1e",
   "metadata": {
    "tags": []
   },
   "outputs": [
    {
     "data": {
      "text/plain": [
       "<Axes: >"
      ]
     },
     "execution_count": 13,
     "metadata": {},
     "output_type": "execute_result"
    },
    {
     "data": {
      "image/png": "[encoded data removed]",
      "text/plain": [
       "<Figure size 640x480 with 1 Axes>"
      ]
     },
     "metadata": {},
     "output_type": "display_data"
    }
   ],
   "source": [
    "# O pandas permite realizar plotagem de histogramas para visualizar a distribuição de uma coluna\n",
    "df.grupo_etnico.hist()"
   ]
  },
  {
   "cell_type": "markdown",
   "id": "6162c969-e760-4f4d-9793-8d7a2a25eb0c",
   "metadata": {},
   "source": [
    "**ATENÇÃO! Os próximos blocos abaixo envolverão a remoção de dados, cabe alertar que não é interessante realizar esse procedimento pela possibilidade de ocasionar um impacto negativo nos resultados de uma análise.**\n",
    "\n",
    "O processo de remoção de dados pode variar a depender do tipo de conjunto de dados do qual se esteja trabalhando. Esse tópico será abordado mais a frente."
   ]
  },
  {
   "cell_type": "code",
   "execution_count": 14,
   "id": "f38eeedd-1f37-476e-b79b-5e10937d8c23",
   "metadata": {
    "tags": []
   },
   "outputs": [],
   "source": [
    "# Como nosso dataframe original não possui valores ausentes, iremos poluí-lo\n",
    "\n",
    "# Passo 1: Criar uma cópia\n",
    "df_sujo = df.copy()\n",
    "\n",
    "# Passo 2: Usar o numpy pra preencher valores nulos\n",
    "for coluna in df_sujo.columns:\n",
    "    ato = np.random.choice([True, False], size=len(df_sujo), p=[0.1, 0.9])\n",
    "    df_sujo.loc[ato, coluna] = np.nan\n",
    "\n"
   ]
  },
  {
   "cell_type": "code",
   "execution_count": 15,
   "id": "21ce1119-cee3-4edb-a0be-d1cf002bb4b3",
   "metadata": {
    "tags": []
   },
   "outputs": [
    {
     "name": "stdout",
     "output_type": "stream",
     "text": [
      "Coluna | Nulos no DataFrame Sujo | Nulos no DataFrame Original\n",
      "-----------------------------------------------------------------\n",
      "genero                                        486                              0\n",
      "grupo_etnico                                  494                              0\n",
      "nivel_educacao_pais                           502                              0\n",
      "tipo_de_bolsa                                 458                              0\n",
      "fez_curso_preparatorio                        502                              0\n",
      "pontuacao_matematica                          483                              0\n",
      "pontuacao_leitura                             491                              0\n",
      "pontuacao_escrita                             511                              0\n"
     ]
    }
   ],
   "source": [
    "# Comparando valores nulos entre o dataframe sujo e o dataframe original\n",
    "print(\"Coluna | Nulos no DataFrame Sujo | Nulos no DataFrame Original\")\n",
    "print(\"-\" * 65)  # Linha separadora\n",
    "\n",
    "for coluna in df_sujo.columns:\n",
    "    nulos_sujo = df_sujo[coluna].isnull().sum()\n",
    "    nulos_original = df[coluna].isnull().sum()\n",
    "    print(f\"{coluna: <23} {nulos_sujo: >25} {nulos_original: >30}\")\n"
   ]
  },
  {
   "cell_type": "markdown",
   "id": "59e2369b-4a7f-4f47-8b05-11b26d27f07b",
   "metadata": {},
   "source": [
    "Conforme observado acima, nosso novo dataframe realmente está poluído em comparação ao original"
   ]
  },
  {
   "cell_type": "code",
   "execution_count": 16,
   "id": "3ca603cd-17db-4360-9478-6d8caf36df38",
   "metadata": {
    "tags": []
   },
   "outputs": [
    {
     "data": {
      "text/html": [
       "<div>\n",
       "<style scoped>\n",
       "    .dataframe tbody tr th:only-of-type {\n",
       "        vertical-align: middle;\n",
       "    }\n",
       "\n",
       "    .dataframe tbody tr th {\n",
       "        vertical-align: top;\n",
       "    }\n",
       "\n",
       "    .dataframe thead th {\n",
       "        text-align: right;\n",
       "    }\n",
       "</style>\n",
       "<table border=\"1\" class=\"dataframe\">\n",
       "  <thead>\n",
       "    <tr style=\"text-align: right;\">\n",
       "      <th></th>\n",
       "    </tr>\n",
       "  </thead>\n",
       "  <tbody>\n",
       "    <tr>\n",
       "      <th>0</th>\n",
       "    </tr>\n",
       "    <tr>\n",
       "      <th>1</th>\n",
       "    </tr>\n",
       "    <tr>\n",
       "      <th>2</th>\n",
       "    </tr>\n",
       "    <tr>\n",
       "      <th>3</th>\n",
       "    </tr>\n",
       "    <tr>\n",
       "      <th>4</th>\n",
       "    </tr>\n",
       "    <tr>\n",
       "      <th>...</th>\n",
       "    </tr>\n",
       "    <tr>\n",
       "      <th>4995</th>\n",
       "    </tr>\n",
       "    <tr>\n",
       "      <th>4996</th>\n",
       "    </tr>\n",
       "    <tr>\n",
       "      <th>4997</th>\n",
       "    </tr>\n",
       "    <tr>\n",
       "      <th>4998</th>\n",
       "    </tr>\n",
       "    <tr>\n",
       "      <th>4999</th>\n",
       "    </tr>\n",
       "  </tbody>\n",
       "</table>\n",
       "<p>5000 rows × 0 columns</p>\n",
       "</div>"
      ],
      "text/plain": [
       "Empty DataFrame\n",
       "Columns: []\n",
       "Index: [0, 1, 2, 3, 4, 5, 6, 7, 8, 9, 10, 11, 12, 13, 14, 15, 16, 17, 18, 19, 20, 21, 22, 23, 24, 25, 26, 27, 28, 29, 30, 31, 32, 33, 34, 35, 36, 37, 38, 39, 40, 41, 42, 43, 44, 45, 46, 47, 48, 49, 50, 51, 52, 53, 54, 55, 56, 57, 58, 59, 60, 61, 62, 63, 64, 65, 66, 67, 68, 69, 70, 71, 72, 73, 74, 75, 76, 77, 78, 79, 80, 81, 82, 83, 84, 85, 86, 87, 88, 89, 90, 91, 92, 93, 94, 95, 96, 97, 98, 99, ...]\n",
       "\n",
       "[5000 rows x 0 columns]"
      ]
     },
     "execution_count": 16,
     "metadata": {},
     "output_type": "execute_result"
    }
   ],
   "source": [
    "# Removendo uma coluna que apresente ao menos um dado com valor inválido\n",
    "df_sujo.dropna(axis=\"columns\")"
   ]
  },
  {
   "cell_type": "markdown",
   "id": "3726f2f3-be5f-45fd-83c9-024fa2c78cc6",
   "metadata": {},
   "source": [
    "> Observe que quando usamos *dropna()* para remover colunas, **a coluna inteira é removida**. Como todas as colunas possuem valores inválidos, **todas foram removidas!**"
   ]
  },
  {
   "cell_type": "code",
   "execution_count": 17,
   "id": "886bef26-a89c-4313-9cf7-de9015b8e8c1",
   "metadata": {
    "tags": []
   },
   "outputs": [
    {
     "data": {
      "text/html": [
       "<div>\n",
       "<style scoped>\n",
       "    .dataframe tbody tr th:only-of-type {\n",
       "        vertical-align: middle;\n",
       "    }\n",
       "\n",
       "    .dataframe tbody tr th {\n",
       "        vertical-align: top;\n",
       "    }\n",
       "\n",
       "    .dataframe thead th {\n",
       "        text-align: right;\n",
       "    }\n",
       "</style>\n",
       "<table border=\"1\" class=\"dataframe\">\n",
       "  <thead>\n",
       "    <tr style=\"text-align: right;\">\n",
       "      <th></th>\n",
       "      <th>genero</th>\n",
       "      <th>grupo_etnico</th>\n",
       "      <th>nivel_educacao_pais</th>\n",
       "      <th>tipo_de_bolsa</th>\n",
       "      <th>fez_curso_preparatorio</th>\n",
       "      <th>pontuacao_matematica</th>\n",
       "      <th>pontuacao_leitura</th>\n",
       "      <th>pontuacao_escrita</th>\n",
       "    </tr>\n",
       "  </thead>\n",
       "  <tbody>\n",
       "    <tr>\n",
       "      <th>0</th>\n",
       "      <td>homem</td>\n",
       "      <td>grupo_B</td>\n",
       "      <td>ensino_superior_completo</td>\n",
       "      <td>NaN</td>\n",
       "      <td>N</td>\n",
       "      <td>84.0</td>\n",
       "      <td>88.0</td>\n",
       "      <td>90.0</td>\n",
       "    </tr>\n",
       "    <tr>\n",
       "      <th>1</th>\n",
       "      <td>NaN</td>\n",
       "      <td>NaN</td>\n",
       "      <td>ensino_medio</td>\n",
       "      <td>gratuita</td>\n",
       "      <td>NaN</td>\n",
       "      <td>55.0</td>\n",
       "      <td>76.0</td>\n",
       "      <td>70.0</td>\n",
       "    </tr>\n",
       "    <tr>\n",
       "      <th>2</th>\n",
       "      <td>NaN</td>\n",
       "      <td>grupo_A</td>\n",
       "      <td>ensino_fundamental</td>\n",
       "      <td>padrao</td>\n",
       "      <td>S</td>\n",
       "      <td>46.0</td>\n",
       "      <td>NaN</td>\n",
       "      <td>67.0</td>\n",
       "    </tr>\n",
       "    <tr>\n",
       "      <th>3</th>\n",
       "      <td>mulher</td>\n",
       "      <td>grupo_E</td>\n",
       "      <td>ensino_superior_completo</td>\n",
       "      <td>padrao</td>\n",
       "      <td>N</td>\n",
       "      <td>90.0</td>\n",
       "      <td>82.0</td>\n",
       "      <td>88.0</td>\n",
       "    </tr>\n",
       "    <tr>\n",
       "      <th>4</th>\n",
       "      <td>mulher</td>\n",
       "      <td>NaN</td>\n",
       "      <td>ensino_superior_incompleto</td>\n",
       "      <td>padrao</td>\n",
       "      <td>N</td>\n",
       "      <td>58.0</td>\n",
       "      <td>55.0</td>\n",
       "      <td>60.0</td>\n",
       "    </tr>\n",
       "    <tr>\n",
       "      <th>...</th>\n",
       "      <td>...</td>\n",
       "      <td>...</td>\n",
       "      <td>...</td>\n",
       "      <td>...</td>\n",
       "      <td>...</td>\n",
       "      <td>...</td>\n",
       "      <td>...</td>\n",
       "      <td>...</td>\n",
       "    </tr>\n",
       "    <tr>\n",
       "      <th>4995</th>\n",
       "      <td>NaN</td>\n",
       "      <td>NaN</td>\n",
       "      <td>NaN</td>\n",
       "      <td>padrao</td>\n",
       "      <td>N</td>\n",
       "      <td>80.0</td>\n",
       "      <td>78.0</td>\n",
       "      <td>65.0</td>\n",
       "    </tr>\n",
       "    <tr>\n",
       "      <th>4996</th>\n",
       "      <td>mulher</td>\n",
       "      <td>grupo_B</td>\n",
       "      <td>ensino_medio</td>\n",
       "      <td>padrao</td>\n",
       "      <td>S</td>\n",
       "      <td>56.0</td>\n",
       "      <td>65.0</td>\n",
       "      <td>69.0</td>\n",
       "    </tr>\n",
       "    <tr>\n",
       "      <th>4997</th>\n",
       "      <td>NaN</td>\n",
       "      <td>grupo_C</td>\n",
       "      <td>ensino_medio</td>\n",
       "      <td>padrao</td>\n",
       "      <td>NaN</td>\n",
       "      <td>72.0</td>\n",
       "      <td>74.0</td>\n",
       "      <td>70.0</td>\n",
       "    </tr>\n",
       "    <tr>\n",
       "      <th>4998</th>\n",
       "      <td>mulher</td>\n",
       "      <td>grupo_C</td>\n",
       "      <td>ensino_superior_completo</td>\n",
       "      <td>padrao</td>\n",
       "      <td>S</td>\n",
       "      <td>72.0</td>\n",
       "      <td>84.0</td>\n",
       "      <td>86.0</td>\n",
       "    </tr>\n",
       "    <tr>\n",
       "      <th>4999</th>\n",
       "      <td>homem</td>\n",
       "      <td>grupo_C</td>\n",
       "      <td>ensino_superior_completo</td>\n",
       "      <td>padrao</td>\n",
       "      <td>S</td>\n",
       "      <td>74.0</td>\n",
       "      <td>73.0</td>\n",
       "      <td>71.0</td>\n",
       "    </tr>\n",
       "  </tbody>\n",
       "</table>\n",
       "<p>5000 rows × 8 columns</p>\n",
       "</div>"
      ],
      "text/plain": [
       "      genero grupo_etnico         nivel_educacao_pais tipo_de_bolsa  \\\n",
       "0      homem      grupo_B    ensino_superior_completo           NaN   \n",
       "1        NaN          NaN                ensino_medio      gratuita   \n",
       "2        NaN      grupo_A          ensino_fundamental        padrao   \n",
       "3     mulher      grupo_E    ensino_superior_completo        padrao   \n",
       "4     mulher          NaN  ensino_superior_incompleto        padrao   \n",
       "...      ...          ...                         ...           ...   \n",
       "4995     NaN          NaN                         NaN        padrao   \n",
       "4996  mulher      grupo_B                ensino_medio        padrao   \n",
       "4997     NaN      grupo_C                ensino_medio        padrao   \n",
       "4998  mulher      grupo_C    ensino_superior_completo        padrao   \n",
       "4999   homem      grupo_C    ensino_superior_completo        padrao   \n",
       "\n",
       "     fez_curso_preparatorio  pontuacao_matematica  pontuacao_leitura  \\\n",
       "0                         N                  84.0               88.0   \n",
       "1                       NaN                  55.0               76.0   \n",
       "2                         S                  46.0                NaN   \n",
       "3                         N                  90.0               82.0   \n",
       "4                         N                  58.0               55.0   \n",
       "...                     ...                   ...                ...   \n",
       "4995                      N                  80.0               78.0   \n",
       "4996                      S                  56.0               65.0   \n",
       "4997                    NaN                  72.0               74.0   \n",
       "4998                      S                  72.0               84.0   \n",
       "4999                      S                  74.0               73.0   \n",
       "\n",
       "      pontuacao_escrita  \n",
       "0                  90.0  \n",
       "1                  70.0  \n",
       "2                  67.0  \n",
       "3                  88.0  \n",
       "4                  60.0  \n",
       "...                 ...  \n",
       "4995               65.0  \n",
       "4996               69.0  \n",
       "4997               70.0  \n",
       "4998               86.0  \n",
       "4999               71.0  \n",
       "\n",
       "[5000 rows x 8 columns]"
      ]
     },
     "execution_count": 17,
     "metadata": {},
     "output_type": "execute_result"
    }
   ],
   "source": [
    "# Não obstante, isdso não aplicou realmente a mudança no dataframe, podemos chamá-lo novamente, como estava antes, por exemplo\n",
    "df_sujo"
   ]
  },
  {
   "cell_type": "code",
   "execution_count": 18,
   "id": "59103956-475d-4ae9-ab00-f03c222efe54",
   "metadata": {
    "tags": []
   },
   "outputs": [
    {
     "data": {
      "text/html": [
       "<div>\n",
       "<style scoped>\n",
       "    .dataframe tbody tr th:only-of-type {\n",
       "        vertical-align: middle;\n",
       "    }\n",
       "\n",
       "    .dataframe tbody tr th {\n",
       "        vertical-align: top;\n",
       "    }\n",
       "\n",
       "    .dataframe thead th {\n",
       "        text-align: right;\n",
       "    }\n",
       "</style>\n",
       "<table border=\"1\" class=\"dataframe\">\n",
       "  <thead>\n",
       "    <tr style=\"text-align: right;\">\n",
       "      <th></th>\n",
       "      <th>genero</th>\n",
       "      <th>grupo_etnico</th>\n",
       "      <th>nivel_educacao_pais</th>\n",
       "      <th>tipo_de_bolsa</th>\n",
       "      <th>fez_curso_preparatorio</th>\n",
       "      <th>pontuacao_matematica</th>\n",
       "      <th>pontuacao_leitura</th>\n",
       "      <th>pontuacao_escrita</th>\n",
       "    </tr>\n",
       "  </thead>\n",
       "  <tbody>\n",
       "    <tr>\n",
       "      <th>3</th>\n",
       "      <td>mulher</td>\n",
       "      <td>grupo_E</td>\n",
       "      <td>ensino_superior_completo</td>\n",
       "      <td>padrao</td>\n",
       "      <td>N</td>\n",
       "      <td>90.0</td>\n",
       "      <td>82.0</td>\n",
       "      <td>88.0</td>\n",
       "    </tr>\n",
       "    <tr>\n",
       "      <th>7</th>\n",
       "      <td>homem</td>\n",
       "      <td>grupo_D</td>\n",
       "      <td>ensino_superior_completo</td>\n",
       "      <td>padrao</td>\n",
       "      <td>N</td>\n",
       "      <td>46.0</td>\n",
       "      <td>48.0</td>\n",
       "      <td>39.0</td>\n",
       "    </tr>\n",
       "    <tr>\n",
       "      <th>8</th>\n",
       "      <td>homem</td>\n",
       "      <td>grupo_C</td>\n",
       "      <td>ensino_superior_continuado</td>\n",
       "      <td>padrao</td>\n",
       "      <td>N</td>\n",
       "      <td>77.0</td>\n",
       "      <td>69.0</td>\n",
       "      <td>66.0</td>\n",
       "    </tr>\n",
       "    <tr>\n",
       "      <th>9</th>\n",
       "      <td>homem</td>\n",
       "      <td>grupo_D</td>\n",
       "      <td>ensino_superior_continuado</td>\n",
       "      <td>gratuita</td>\n",
       "      <td>N</td>\n",
       "      <td>65.0</td>\n",
       "      <td>62.0</td>\n",
       "      <td>56.0</td>\n",
       "    </tr>\n",
       "    <tr>\n",
       "      <th>11</th>\n",
       "      <td>mulher</td>\n",
       "      <td>grupo_D</td>\n",
       "      <td>ensino_superior_completo</td>\n",
       "      <td>padrao</td>\n",
       "      <td>S</td>\n",
       "      <td>86.0</td>\n",
       "      <td>87.0</td>\n",
       "      <td>86.0</td>\n",
       "    </tr>\n",
       "    <tr>\n",
       "      <th>...</th>\n",
       "      <td>...</td>\n",
       "      <td>...</td>\n",
       "      <td>...</td>\n",
       "      <td>...</td>\n",
       "      <td>...</td>\n",
       "      <td>...</td>\n",
       "      <td>...</td>\n",
       "      <td>...</td>\n",
       "    </tr>\n",
       "    <tr>\n",
       "      <th>4992</th>\n",
       "      <td>homem</td>\n",
       "      <td>grupo_E</td>\n",
       "      <td>ensino_superior_completo</td>\n",
       "      <td>gratuita</td>\n",
       "      <td>N</td>\n",
       "      <td>84.0</td>\n",
       "      <td>86.0</td>\n",
       "      <td>79.0</td>\n",
       "    </tr>\n",
       "    <tr>\n",
       "      <th>4994</th>\n",
       "      <td>homem</td>\n",
       "      <td>grupo_C</td>\n",
       "      <td>ensino_fundamental</td>\n",
       "      <td>gratuita</td>\n",
       "      <td>N</td>\n",
       "      <td>68.0</td>\n",
       "      <td>65.0</td>\n",
       "      <td>59.0</td>\n",
       "    </tr>\n",
       "    <tr>\n",
       "      <th>4996</th>\n",
       "      <td>mulher</td>\n",
       "      <td>grupo_B</td>\n",
       "      <td>ensino_medio</td>\n",
       "      <td>padrao</td>\n",
       "      <td>S</td>\n",
       "      <td>56.0</td>\n",
       "      <td>65.0</td>\n",
       "      <td>69.0</td>\n",
       "    </tr>\n",
       "    <tr>\n",
       "      <th>4998</th>\n",
       "      <td>mulher</td>\n",
       "      <td>grupo_C</td>\n",
       "      <td>ensino_superior_completo</td>\n",
       "      <td>padrao</td>\n",
       "      <td>S</td>\n",
       "      <td>72.0</td>\n",
       "      <td>84.0</td>\n",
       "      <td>86.0</td>\n",
       "    </tr>\n",
       "    <tr>\n",
       "      <th>4999</th>\n",
       "      <td>homem</td>\n",
       "      <td>grupo_C</td>\n",
       "      <td>ensino_superior_completo</td>\n",
       "      <td>padrao</td>\n",
       "      <td>S</td>\n",
       "      <td>74.0</td>\n",
       "      <td>73.0</td>\n",
       "      <td>71.0</td>\n",
       "    </tr>\n",
       "  </tbody>\n",
       "</table>\n",
       "<p>2185 rows × 8 columns</p>\n",
       "</div>"
      ],
      "text/plain": [
       "      genero grupo_etnico         nivel_educacao_pais tipo_de_bolsa  \\\n",
       "3     mulher      grupo_E    ensino_superior_completo        padrao   \n",
       "7      homem      grupo_D    ensino_superior_completo        padrao   \n",
       "8      homem      grupo_C  ensino_superior_continuado        padrao   \n",
       "9      homem      grupo_D  ensino_superior_continuado      gratuita   \n",
       "11    mulher      grupo_D    ensino_superior_completo        padrao   \n",
       "...      ...          ...                         ...           ...   \n",
       "4992   homem      grupo_E    ensino_superior_completo      gratuita   \n",
       "4994   homem      grupo_C          ensino_fundamental      gratuita   \n",
       "4996  mulher      grupo_B                ensino_medio        padrao   \n",
       "4998  mulher      grupo_C    ensino_superior_completo        padrao   \n",
       "4999   homem      grupo_C    ensino_superior_completo        padrao   \n",
       "\n",
       "     fez_curso_preparatorio  pontuacao_matematica  pontuacao_leitura  \\\n",
       "3                         N                  90.0               82.0   \n",
       "7                         N                  46.0               48.0   \n",
       "8                         N                  77.0               69.0   \n",
       "9                         N                  65.0               62.0   \n",
       "11                        S                  86.0               87.0   \n",
       "...                     ...                   ...                ...   \n",
       "4992                      N                  84.0               86.0   \n",
       "4994                      N                  68.0               65.0   \n",
       "4996                      S                  56.0               65.0   \n",
       "4998                      S                  72.0               84.0   \n",
       "4999                      S                  74.0               73.0   \n",
       "\n",
       "      pontuacao_escrita  \n",
       "3                  88.0  \n",
       "7                  39.0  \n",
       "8                  66.0  \n",
       "9                  56.0  \n",
       "11                 86.0  \n",
       "...                 ...  \n",
       "4992               79.0  \n",
       "4994               59.0  \n",
       "4996               69.0  \n",
       "4998               86.0  \n",
       "4999               71.0  \n",
       "\n",
       "[2185 rows x 8 columns]"
      ]
     },
     "execution_count": 18,
     "metadata": {},
     "output_type": "execute_result"
    }
   ],
   "source": [
    "# Removendo linhas que apresentem ao menos um valor inválido - O dataframe original permanece\n",
    "df_sujo.dropna()"
   ]
  },
  {
   "cell_type": "code",
   "execution_count": 19,
   "id": "d0d658c2-3596-45e5-9cd8-556f5a37d8f9",
   "metadata": {
    "tags": []
   },
   "outputs": [
    {
     "data": {
      "text/html": [
       "<div>\n",
       "<style scoped>\n",
       "    .dataframe tbody tr th:only-of-type {\n",
       "        vertical-align: middle;\n",
       "    }\n",
       "\n",
       "    .dataframe tbody tr th {\n",
       "        vertical-align: top;\n",
       "    }\n",
       "\n",
       "    .dataframe thead th {\n",
       "        text-align: right;\n",
       "    }\n",
       "</style>\n",
       "<table border=\"1\" class=\"dataframe\">\n",
       "  <thead>\n",
       "    <tr style=\"text-align: right;\">\n",
       "      <th></th>\n",
       "      <th>genero</th>\n",
       "      <th>grupo_etnico</th>\n",
       "      <th>nivel_educacao_pais</th>\n",
       "      <th>tipo_de_bolsa</th>\n",
       "      <th>fez_curso_preparatorio</th>\n",
       "      <th>pontuacao_matematica</th>\n",
       "      <th>pontuacao_leitura</th>\n",
       "      <th>pontuacao_escrita</th>\n",
       "    </tr>\n",
       "  </thead>\n",
       "  <tbody>\n",
       "    <tr>\n",
       "      <th>0</th>\n",
       "      <td>homem</td>\n",
       "      <td>grupo_B</td>\n",
       "      <td>ensino_superior_completo</td>\n",
       "      <td>NaN</td>\n",
       "      <td>N</td>\n",
       "      <td>84.0</td>\n",
       "      <td>88.0</td>\n",
       "      <td>90.0</td>\n",
       "    </tr>\n",
       "    <tr>\n",
       "      <th>1</th>\n",
       "      <td>NaN</td>\n",
       "      <td>NaN</td>\n",
       "      <td>ensino_medio</td>\n",
       "      <td>gratuita</td>\n",
       "      <td>NaN</td>\n",
       "      <td>55.0</td>\n",
       "      <td>76.0</td>\n",
       "      <td>70.0</td>\n",
       "    </tr>\n",
       "    <tr>\n",
       "      <th>2</th>\n",
       "      <td>NaN</td>\n",
       "      <td>grupo_A</td>\n",
       "      <td>ensino_fundamental</td>\n",
       "      <td>padrao</td>\n",
       "      <td>S</td>\n",
       "      <td>46.0</td>\n",
       "      <td>NaN</td>\n",
       "      <td>67.0</td>\n",
       "    </tr>\n",
       "    <tr>\n",
       "      <th>3</th>\n",
       "      <td>mulher</td>\n",
       "      <td>grupo_E</td>\n",
       "      <td>ensino_superior_completo</td>\n",
       "      <td>padrao</td>\n",
       "      <td>N</td>\n",
       "      <td>90.0</td>\n",
       "      <td>82.0</td>\n",
       "      <td>88.0</td>\n",
       "    </tr>\n",
       "    <tr>\n",
       "      <th>4</th>\n",
       "      <td>mulher</td>\n",
       "      <td>NaN</td>\n",
       "      <td>ensino_superior_incompleto</td>\n",
       "      <td>padrao</td>\n",
       "      <td>N</td>\n",
       "      <td>58.0</td>\n",
       "      <td>55.0</td>\n",
       "      <td>60.0</td>\n",
       "    </tr>\n",
       "    <tr>\n",
       "      <th>...</th>\n",
       "      <td>...</td>\n",
       "      <td>...</td>\n",
       "      <td>...</td>\n",
       "      <td>...</td>\n",
       "      <td>...</td>\n",
       "      <td>...</td>\n",
       "      <td>...</td>\n",
       "      <td>...</td>\n",
       "    </tr>\n",
       "    <tr>\n",
       "      <th>4995</th>\n",
       "      <td>NaN</td>\n",
       "      <td>NaN</td>\n",
       "      <td>NaN</td>\n",
       "      <td>padrao</td>\n",
       "      <td>N</td>\n",
       "      <td>80.0</td>\n",
       "      <td>78.0</td>\n",
       "      <td>65.0</td>\n",
       "    </tr>\n",
       "    <tr>\n",
       "      <th>4996</th>\n",
       "      <td>mulher</td>\n",
       "      <td>grupo_B</td>\n",
       "      <td>ensino_medio</td>\n",
       "      <td>padrao</td>\n",
       "      <td>S</td>\n",
       "      <td>56.0</td>\n",
       "      <td>65.0</td>\n",
       "      <td>69.0</td>\n",
       "    </tr>\n",
       "    <tr>\n",
       "      <th>4997</th>\n",
       "      <td>NaN</td>\n",
       "      <td>grupo_C</td>\n",
       "      <td>ensino_medio</td>\n",
       "      <td>padrao</td>\n",
       "      <td>NaN</td>\n",
       "      <td>72.0</td>\n",
       "      <td>74.0</td>\n",
       "      <td>70.0</td>\n",
       "    </tr>\n",
       "    <tr>\n",
       "      <th>4998</th>\n",
       "      <td>mulher</td>\n",
       "      <td>grupo_C</td>\n",
       "      <td>ensino_superior_completo</td>\n",
       "      <td>padrao</td>\n",
       "      <td>S</td>\n",
       "      <td>72.0</td>\n",
       "      <td>84.0</td>\n",
       "      <td>86.0</td>\n",
       "    </tr>\n",
       "    <tr>\n",
       "      <th>4999</th>\n",
       "      <td>homem</td>\n",
       "      <td>grupo_C</td>\n",
       "      <td>ensino_superior_completo</td>\n",
       "      <td>padrao</td>\n",
       "      <td>S</td>\n",
       "      <td>74.0</td>\n",
       "      <td>73.0</td>\n",
       "      <td>71.0</td>\n",
       "    </tr>\n",
       "  </tbody>\n",
       "</table>\n",
       "<p>5000 rows × 8 columns</p>\n",
       "</div>"
      ],
      "text/plain": [
       "      genero grupo_etnico         nivel_educacao_pais tipo_de_bolsa  \\\n",
       "0      homem      grupo_B    ensino_superior_completo           NaN   \n",
       "1        NaN          NaN                ensino_medio      gratuita   \n",
       "2        NaN      grupo_A          ensino_fundamental        padrao   \n",
       "3     mulher      grupo_E    ensino_superior_completo        padrao   \n",
       "4     mulher          NaN  ensino_superior_incompleto        padrao   \n",
       "...      ...          ...                         ...           ...   \n",
       "4995     NaN          NaN                         NaN        padrao   \n",
       "4996  mulher      grupo_B                ensino_medio        padrao   \n",
       "4997     NaN      grupo_C                ensino_medio        padrao   \n",
       "4998  mulher      grupo_C    ensino_superior_completo        padrao   \n",
       "4999   homem      grupo_C    ensino_superior_completo        padrao   \n",
       "\n",
       "     fez_curso_preparatorio  pontuacao_matematica  pontuacao_leitura  \\\n",
       "0                         N                  84.0               88.0   \n",
       "1                       NaN                  55.0               76.0   \n",
       "2                         S                  46.0                NaN   \n",
       "3                         N                  90.0               82.0   \n",
       "4                         N                  58.0               55.0   \n",
       "...                     ...                   ...                ...   \n",
       "4995                      N                  80.0               78.0   \n",
       "4996                      S                  56.0               65.0   \n",
       "4997                    NaN                  72.0               74.0   \n",
       "4998                      S                  72.0               84.0   \n",
       "4999                      S                  74.0               73.0   \n",
       "\n",
       "      pontuacao_escrita  \n",
       "0                  90.0  \n",
       "1                  70.0  \n",
       "2                  67.0  \n",
       "3                  88.0  \n",
       "4                  60.0  \n",
       "...                 ...  \n",
       "4995               65.0  \n",
       "4996               69.0  \n",
       "4997               70.0  \n",
       "4998               86.0  \n",
       "4999               71.0  \n",
       "\n",
       "[5000 rows x 8 columns]"
      ]
     },
     "execution_count": 19,
     "metadata": {},
     "output_type": "execute_result"
    }
   ],
   "source": [
    "# Observe que tal como no caso acima, as mudanças não foram efetivas\n",
    "df_sujo"
   ]
  },
  {
   "cell_type": "markdown",
   "id": "a4f62f48-6e29-487f-84ee-3abf1abfb8e7",
   "metadata": {},
   "source": [
    "> Para de fato salvar as mudanças no dataframe, deve-se realizar uma reatribuição ou criar um novo dataframe."
   ]
  },
  {
   "cell_type": "code",
   "execution_count": 20,
   "id": "dfe71d56-b910-4b9b-8b60-25a7ff6e258a",
   "metadata": {},
   "outputs": [
    {
     "data": {
      "text/html": [
       "<div>\n",
       "<style scoped>\n",
       "    .dataframe tbody tr th:only-of-type {\n",
       "        vertical-align: middle;\n",
       "    }\n",
       "\n",
       "    .dataframe tbody tr th {\n",
       "        vertical-align: top;\n",
       "    }\n",
       "\n",
       "    .dataframe thead th {\n",
       "        text-align: right;\n",
       "    }\n",
       "</style>\n",
       "<table border=\"1\" class=\"dataframe\">\n",
       "  <thead>\n",
       "    <tr style=\"text-align: right;\">\n",
       "      <th></th>\n",
       "      <th>genero</th>\n",
       "      <th>grupo_etnico</th>\n",
       "      <th>nivel_educacao_pais</th>\n",
       "      <th>tipo_de_bolsa</th>\n",
       "      <th>fez_curso_preparatorio</th>\n",
       "      <th>pontuacao_matematica</th>\n",
       "      <th>pontuacao_leitura</th>\n",
       "      <th>pontuacao_escrita</th>\n",
       "    </tr>\n",
       "  </thead>\n",
       "  <tbody>\n",
       "    <tr>\n",
       "      <th>3</th>\n",
       "      <td>mulher</td>\n",
       "      <td>grupo_E</td>\n",
       "      <td>ensino_superior_completo</td>\n",
       "      <td>padrao</td>\n",
       "      <td>N</td>\n",
       "      <td>90.0</td>\n",
       "      <td>82.0</td>\n",
       "      <td>88.0</td>\n",
       "    </tr>\n",
       "    <tr>\n",
       "      <th>7</th>\n",
       "      <td>homem</td>\n",
       "      <td>grupo_D</td>\n",
       "      <td>ensino_superior_completo</td>\n",
       "      <td>padrao</td>\n",
       "      <td>N</td>\n",
       "      <td>46.0</td>\n",
       "      <td>48.0</td>\n",
       "      <td>39.0</td>\n",
       "    </tr>\n",
       "    <tr>\n",
       "      <th>8</th>\n",
       "      <td>homem</td>\n",
       "      <td>grupo_C</td>\n",
       "      <td>ensino_superior_continuado</td>\n",
       "      <td>padrao</td>\n",
       "      <td>N</td>\n",
       "      <td>77.0</td>\n",
       "      <td>69.0</td>\n",
       "      <td>66.0</td>\n",
       "    </tr>\n",
       "    <tr>\n",
       "      <th>9</th>\n",
       "      <td>homem</td>\n",
       "      <td>grupo_D</td>\n",
       "      <td>ensino_superior_continuado</td>\n",
       "      <td>gratuita</td>\n",
       "      <td>N</td>\n",
       "      <td>65.0</td>\n",
       "      <td>62.0</td>\n",
       "      <td>56.0</td>\n",
       "    </tr>\n",
       "    <tr>\n",
       "      <th>11</th>\n",
       "      <td>mulher</td>\n",
       "      <td>grupo_D</td>\n",
       "      <td>ensino_superior_completo</td>\n",
       "      <td>padrao</td>\n",
       "      <td>S</td>\n",
       "      <td>86.0</td>\n",
       "      <td>87.0</td>\n",
       "      <td>86.0</td>\n",
       "    </tr>\n",
       "    <tr>\n",
       "      <th>...</th>\n",
       "      <td>...</td>\n",
       "      <td>...</td>\n",
       "      <td>...</td>\n",
       "      <td>...</td>\n",
       "      <td>...</td>\n",
       "      <td>...</td>\n",
       "      <td>...</td>\n",
       "      <td>...</td>\n",
       "    </tr>\n",
       "    <tr>\n",
       "      <th>4992</th>\n",
       "      <td>homem</td>\n",
       "      <td>grupo_E</td>\n",
       "      <td>ensino_superior_completo</td>\n",
       "      <td>gratuita</td>\n",
       "      <td>N</td>\n",
       "      <td>84.0</td>\n",
       "      <td>86.0</td>\n",
       "      <td>79.0</td>\n",
       "    </tr>\n",
       "    <tr>\n",
       "      <th>4994</th>\n",
       "      <td>homem</td>\n",
       "      <td>grupo_C</td>\n",
       "      <td>ensino_fundamental</td>\n",
       "      <td>gratuita</td>\n",
       "      <td>N</td>\n",
       "      <td>68.0</td>\n",
       "      <td>65.0</td>\n",
       "      <td>59.0</td>\n",
       "    </tr>\n",
       "    <tr>\n",
       "      <th>4996</th>\n",
       "      <td>mulher</td>\n",
       "      <td>grupo_B</td>\n",
       "      <td>ensino_medio</td>\n",
       "      <td>padrao</td>\n",
       "      <td>S</td>\n",
       "      <td>56.0</td>\n",
       "      <td>65.0</td>\n",
       "      <td>69.0</td>\n",
       "    </tr>\n",
       "    <tr>\n",
       "      <th>4998</th>\n",
       "      <td>mulher</td>\n",
       "      <td>grupo_C</td>\n",
       "      <td>ensino_superior_completo</td>\n",
       "      <td>padrao</td>\n",
       "      <td>S</td>\n",
       "      <td>72.0</td>\n",
       "      <td>84.0</td>\n",
       "      <td>86.0</td>\n",
       "    </tr>\n",
       "    <tr>\n",
       "      <th>4999</th>\n",
       "      <td>homem</td>\n",
       "      <td>grupo_C</td>\n",
       "      <td>ensino_superior_completo</td>\n",
       "      <td>padrao</td>\n",
       "      <td>S</td>\n",
       "      <td>74.0</td>\n",
       "      <td>73.0</td>\n",
       "      <td>71.0</td>\n",
       "    </tr>\n",
       "  </tbody>\n",
       "</table>\n",
       "<p>2185 rows × 8 columns</p>\n",
       "</div>"
      ],
      "text/plain": [
       "      genero grupo_etnico         nivel_educacao_pais tipo_de_bolsa  \\\n",
       "3     mulher      grupo_E    ensino_superior_completo        padrao   \n",
       "7      homem      grupo_D    ensino_superior_completo        padrao   \n",
       "8      homem      grupo_C  ensino_superior_continuado        padrao   \n",
       "9      homem      grupo_D  ensino_superior_continuado      gratuita   \n",
       "11    mulher      grupo_D    ensino_superior_completo        padrao   \n",
       "...      ...          ...                         ...           ...   \n",
       "4992   homem      grupo_E    ensino_superior_completo      gratuita   \n",
       "4994   homem      grupo_C          ensino_fundamental      gratuita   \n",
       "4996  mulher      grupo_B                ensino_medio        padrao   \n",
       "4998  mulher      grupo_C    ensino_superior_completo        padrao   \n",
       "4999   homem      grupo_C    ensino_superior_completo        padrao   \n",
       "\n",
       "     fez_curso_preparatorio  pontuacao_matematica  pontuacao_leitura  \\\n",
       "3                         N                  90.0               82.0   \n",
       "7                         N                  46.0               48.0   \n",
       "8                         N                  77.0               69.0   \n",
       "9                         N                  65.0               62.0   \n",
       "11                        S                  86.0               87.0   \n",
       "...                     ...                   ...                ...   \n",
       "4992                      N                  84.0               86.0   \n",
       "4994                      N                  68.0               65.0   \n",
       "4996                      S                  56.0               65.0   \n",
       "4998                      S                  72.0               84.0   \n",
       "4999                      S                  74.0               73.0   \n",
       "\n",
       "      pontuacao_escrita  \n",
       "3                  88.0  \n",
       "7                  39.0  \n",
       "8                  66.0  \n",
       "9                  56.0  \n",
       "11                 86.0  \n",
       "...                 ...  \n",
       "4992               79.0  \n",
       "4994               59.0  \n",
       "4996               69.0  \n",
       "4998               86.0  \n",
       "4999               71.0  \n",
       "\n",
       "[2185 rows x 8 columns]"
      ]
     },
     "execution_count": 20,
     "metadata": {},
     "output_type": "execute_result"
    }
   ],
   "source": [
    "# Por padrão, a remoção de colunas ou linhas não possui ação instantânea, desta forma\n",
    "# para criar um dataframe com o efeito da função, deve-se atribuir uma nova variável\n",
    "\n",
    "df_limpo = df_sujo.dropna() # O mesmo que: \"df_limpo recebe a limpeza de df\"\n",
    "df_limpo"
   ]
  },
  {
   "cell_type": "markdown",
   "id": "d73a39aa-da17-419b-8d94-d834fe4f6f3d",
   "metadata": {},
   "source": [
    "Note acima que as mudanças foram aplicadas."
   ]
  },
  {
   "cell_type": "markdown",
   "id": "5d725d56-f1f1-44e4-89f3-ad8bb5fabd5f",
   "metadata": {
    "tags": []
   },
   "source": [
    "### <span style=\"color:#6d6a60\"> 3.2 Tipos de Variáveis </span> <a class=\"anchor\" id=\"sec_3_2\"></a>\n",
    "\n",
    "Ao nos aprofundarmos na Análise Exploratória de Dados, torna-se fundamental ter uma compreensão sólida sobre os diferentes tipos de variáveis presentes no conjunto de dados. Essa compreensão não apenas orienta a escolha das técnicas analíticas adequadas, mas também influencia diretamente a interpretação dos resultados.\n",
    "\n",
    "#### Variável Qualitativa\n",
    "\n",
    "Variáveis qualitativas referem-se a dados ou características associadas a qualidades categóricas. Exemplos incluem nomes, cargos, cores e modelos. Dentro desse contexto, destacamos duas subdivisões:\n",
    "\n",
    "- **Qualitativa Nominal:** Dados categóricos sem ordem específica, como marcas de carros (**chevrolet, ford, audi, fiat**).\n",
    "- **Qualitativa Ordinal:** Dados categóricos com uma ordem significativa, como classificações de desempenho (**excelente, bom, regular, ruim**).\n",
    "\n",
    "#### Variável Quantitativa\n",
    "\n",
    "Variáveis quantitativas, por outro lado, estão relacionadas a dados ou características expressas numericamente, como idade, contagem de itens, preços e medidas. Essas variáveis também apresentam duas subdivisões:\n",
    "\n",
    "- **Quantitativa Discreta:** Números inteiros sem partes fracionadas, exemplificado por contagens (**14, 15, 22, 17**).\n",
    "- **Quantitativa Contínua:** Números que podem ter partes fracionadas, representando medidas mais precisas (**1.71, 1.83, 1.59, 1.62**).\n",
    "\n",
    "Entender esses conceitos é crucial para uma abordagem informada durante a análise, impactando diretamente a qualidade das conclusões que podemos extrair dos dados.\n",
    "\n",
    "Veja abaixo a aplicação prática.\n"
   ]
  },
  {
   "cell_type": "code",
   "execution_count": 21,
   "id": "c9527983-e242-4ca4-acf0-d76b91d2e152",
   "metadata": {
    "tags": []
   },
   "outputs": [
    {
     "data": {
      "text/html": [
       "<div>\n",
       "<style scoped>\n",
       "    .dataframe tbody tr th:only-of-type {\n",
       "        vertical-align: middle;\n",
       "    }\n",
       "\n",
       "    .dataframe tbody tr th {\n",
       "        vertical-align: top;\n",
       "    }\n",
       "\n",
       "    .dataframe thead th {\n",
       "        text-align: right;\n",
       "    }\n",
       "</style>\n",
       "<table border=\"1\" class=\"dataframe\">\n",
       "  <thead>\n",
       "    <tr style=\"text-align: right;\">\n",
       "      <th></th>\n",
       "      <th>genero</th>\n",
       "      <th>grupo_etnico</th>\n",
       "      <th>nivel_educacao_pais</th>\n",
       "      <th>tipo_de_bolsa</th>\n",
       "      <th>fez_curso_preparatorio</th>\n",
       "    </tr>\n",
       "  </thead>\n",
       "  <tbody>\n",
       "    <tr>\n",
       "      <th>0</th>\n",
       "      <td>homem</td>\n",
       "      <td>grupo_B</td>\n",
       "      <td>ensino_superior_completo</td>\n",
       "      <td>padrao</td>\n",
       "      <td>N</td>\n",
       "    </tr>\n",
       "    <tr>\n",
       "      <th>1</th>\n",
       "      <td>mulher</td>\n",
       "      <td>grupo_D</td>\n",
       "      <td>ensino_medio</td>\n",
       "      <td>gratuita</td>\n",
       "      <td>N</td>\n",
       "    </tr>\n",
       "    <tr>\n",
       "      <th>2</th>\n",
       "      <td>mulher</td>\n",
       "      <td>grupo_A</td>\n",
       "      <td>ensino_fundamental</td>\n",
       "      <td>padrao</td>\n",
       "      <td>S</td>\n",
       "    </tr>\n",
       "    <tr>\n",
       "      <th>3</th>\n",
       "      <td>mulher</td>\n",
       "      <td>grupo_E</td>\n",
       "      <td>ensino_superior_completo</td>\n",
       "      <td>padrao</td>\n",
       "      <td>N</td>\n",
       "    </tr>\n",
       "    <tr>\n",
       "      <th>4</th>\n",
       "      <td>mulher</td>\n",
       "      <td>grupo_D</td>\n",
       "      <td>ensino_superior_incompleto</td>\n",
       "      <td>padrao</td>\n",
       "      <td>N</td>\n",
       "    </tr>\n",
       "    <tr>\n",
       "      <th>...</th>\n",
       "      <td>...</td>\n",
       "      <td>...</td>\n",
       "      <td>...</td>\n",
       "      <td>...</td>\n",
       "      <td>...</td>\n",
       "    </tr>\n",
       "    <tr>\n",
       "      <th>4995</th>\n",
       "      <td>homem</td>\n",
       "      <td>grupo_C</td>\n",
       "      <td>ensino_medio</td>\n",
       "      <td>padrao</td>\n",
       "      <td>N</td>\n",
       "    </tr>\n",
       "    <tr>\n",
       "      <th>4996</th>\n",
       "      <td>mulher</td>\n",
       "      <td>grupo_B</td>\n",
       "      <td>ensino_medio</td>\n",
       "      <td>padrao</td>\n",
       "      <td>S</td>\n",
       "    </tr>\n",
       "    <tr>\n",
       "      <th>4997</th>\n",
       "      <td>mulher</td>\n",
       "      <td>grupo_C</td>\n",
       "      <td>ensino_medio</td>\n",
       "      <td>padrao</td>\n",
       "      <td>N</td>\n",
       "    </tr>\n",
       "    <tr>\n",
       "      <th>4998</th>\n",
       "      <td>mulher</td>\n",
       "      <td>grupo_C</td>\n",
       "      <td>ensino_superior_completo</td>\n",
       "      <td>padrao</td>\n",
       "      <td>S</td>\n",
       "    </tr>\n",
       "    <tr>\n",
       "      <th>4999</th>\n",
       "      <td>homem</td>\n",
       "      <td>grupo_C</td>\n",
       "      <td>ensino_superior_completo</td>\n",
       "      <td>padrao</td>\n",
       "      <td>S</td>\n",
       "    </tr>\n",
       "  </tbody>\n",
       "</table>\n",
       "<p>5000 rows × 5 columns</p>\n",
       "</div>"
      ],
      "text/plain": [
       "      genero grupo_etnico         nivel_educacao_pais tipo_de_bolsa  \\\n",
       "0      homem      grupo_B    ensino_superior_completo        padrao   \n",
       "1     mulher      grupo_D                ensino_medio      gratuita   \n",
       "2     mulher      grupo_A          ensino_fundamental        padrao   \n",
       "3     mulher      grupo_E    ensino_superior_completo        padrao   \n",
       "4     mulher      grupo_D  ensino_superior_incompleto        padrao   \n",
       "...      ...          ...                         ...           ...   \n",
       "4995   homem      grupo_C                ensino_medio        padrao   \n",
       "4996  mulher      grupo_B                ensino_medio        padrao   \n",
       "4997  mulher      grupo_C                ensino_medio        padrao   \n",
       "4998  mulher      grupo_C    ensino_superior_completo        padrao   \n",
       "4999   homem      grupo_C    ensino_superior_completo        padrao   \n",
       "\n",
       "     fez_curso_preparatorio  \n",
       "0                         N  \n",
       "1                         N  \n",
       "2                         S  \n",
       "3                         N  \n",
       "4                         N  \n",
       "...                     ...  \n",
       "4995                      N  \n",
       "4996                      S  \n",
       "4997                      N  \n",
       "4998                      S  \n",
       "4999                      S  \n",
       "\n",
       "[5000 rows x 5 columns]"
      ]
     },
     "execution_count": 21,
     "metadata": {},
     "output_type": "execute_result"
    }
   ],
   "source": [
    "# Selecionando as variáveis qualitativas de um conjunto de dados\n",
    "# Usaremos o nosso dataframe previamente definido na seção 3.1\n",
    "\n",
    "df.select_dtypes(include=['object'])"
   ]
  },
  {
   "cell_type": "markdown",
   "id": "c83be798-340a-4d04-b876-8959ff378cde",
   "metadata": {},
   "source": [
    "> Toda coluna com tipo  **object** se refere a uma **variável qualitativa**."
   ]
  },
  {
   "cell_type": "code",
   "execution_count": 22,
   "id": "51fffedd-79fe-47f9-9098-b257ebc01946",
   "metadata": {
    "tags": []
   },
   "outputs": [
    {
     "data": {
      "text/html": [
       "<div>\n",
       "<style scoped>\n",
       "    .dataframe tbody tr th:only-of-type {\n",
       "        vertical-align: middle;\n",
       "    }\n",
       "\n",
       "    .dataframe tbody tr th {\n",
       "        vertical-align: top;\n",
       "    }\n",
       "\n",
       "    .dataframe thead th {\n",
       "        text-align: right;\n",
       "    }\n",
       "</style>\n",
       "<table border=\"1\" class=\"dataframe\">\n",
       "  <thead>\n",
       "    <tr style=\"text-align: right;\">\n",
       "      <th></th>\n",
       "      <th>pontuacao_matematica</th>\n",
       "      <th>pontuacao_leitura</th>\n",
       "      <th>pontuacao_escrita</th>\n",
       "    </tr>\n",
       "  </thead>\n",
       "  <tbody>\n",
       "    <tr>\n",
       "      <th>0</th>\n",
       "      <td>84</td>\n",
       "      <td>88</td>\n",
       "      <td>90</td>\n",
       "    </tr>\n",
       "    <tr>\n",
       "      <th>1</th>\n",
       "      <td>55</td>\n",
       "      <td>76</td>\n",
       "      <td>70</td>\n",
       "    </tr>\n",
       "    <tr>\n",
       "      <th>2</th>\n",
       "      <td>46</td>\n",
       "      <td>66</td>\n",
       "      <td>67</td>\n",
       "    </tr>\n",
       "    <tr>\n",
       "      <th>3</th>\n",
       "      <td>90</td>\n",
       "      <td>82</td>\n",
       "      <td>88</td>\n",
       "    </tr>\n",
       "    <tr>\n",
       "      <th>4</th>\n",
       "      <td>58</td>\n",
       "      <td>55</td>\n",
       "      <td>60</td>\n",
       "    </tr>\n",
       "    <tr>\n",
       "      <th>...</th>\n",
       "      <td>...</td>\n",
       "      <td>...</td>\n",
       "      <td>...</td>\n",
       "    </tr>\n",
       "    <tr>\n",
       "      <th>4995</th>\n",
       "      <td>80</td>\n",
       "      <td>78</td>\n",
       "      <td>65</td>\n",
       "    </tr>\n",
       "    <tr>\n",
       "      <th>4996</th>\n",
       "      <td>56</td>\n",
       "      <td>65</td>\n",
       "      <td>69</td>\n",
       "    </tr>\n",
       "    <tr>\n",
       "      <th>4997</th>\n",
       "      <td>72</td>\n",
       "      <td>74</td>\n",
       "      <td>70</td>\n",
       "    </tr>\n",
       "    <tr>\n",
       "      <th>4998</th>\n",
       "      <td>72</td>\n",
       "      <td>84</td>\n",
       "      <td>86</td>\n",
       "    </tr>\n",
       "    <tr>\n",
       "      <th>4999</th>\n",
       "      <td>74</td>\n",
       "      <td>73</td>\n",
       "      <td>71</td>\n",
       "    </tr>\n",
       "  </tbody>\n",
       "</table>\n",
       "<p>5000 rows × 3 columns</p>\n",
       "</div>"
      ],
      "text/plain": [
       "      pontuacao_matematica  pontuacao_leitura  pontuacao_escrita\n",
       "0                       84                 88                 90\n",
       "1                       55                 76                 70\n",
       "2                       46                 66                 67\n",
       "3                       90                 82                 88\n",
       "4                       58                 55                 60\n",
       "...                    ...                ...                ...\n",
       "4995                    80                 78                 65\n",
       "4996                    56                 65                 69\n",
       "4997                    72                 74                 70\n",
       "4998                    72                 84                 86\n",
       "4999                    74                 73                 71\n",
       "\n",
       "[5000 rows x 3 columns]"
      ]
     },
     "execution_count": 22,
     "metadata": {},
     "output_type": "execute_result"
    }
   ],
   "source": [
    "# Selecionando as variáveis quantitativas de um conjunto de dados\n",
    "df.select_dtypes(include=['number'])"
   ]
  },
  {
   "cell_type": "markdown",
   "id": "2481ad57-413c-4c50-b898-d4518e3daeca",
   "metadata": {},
   "source": [
    "> Toda coluna com tipo **number** (Exemplo: int64, float64) se refere a uma **variável quantitativa**."
   ]
  },
  {
   "cell_type": "code",
   "execution_count": 23,
   "id": "bc20d02b-f87f-45bf-9106-0b584013689c",
   "metadata": {
    "tags": []
   },
   "outputs": [
    {
     "name": "stdout",
     "output_type": "stream",
     "text": [
      "<class 'numpy.int64'>\n"
     ]
    },
    {
     "data": {
      "text/plain": [
       "55"
      ]
     },
     "execution_count": 23,
     "metadata": {},
     "output_type": "execute_result"
    }
   ],
   "source": [
    "# Uma breve observação é sobre a conversão implícita de tipos, veja\n",
    "\n",
    "print(type(df.pontuacao_matematica[1]))\n",
    "df.pontuacao_matematica[1]"
   ]
  },
  {
   "cell_type": "markdown",
   "id": "54614af1-24c5-4291-8004-5b58dcd31c51",
   "metadata": {},
   "source": [
    "Observe que, naturalmente, o valor se mostra como sendo um quantitativo discreto. Porém, a depender da operação, isso pode mudar, veja:\n"
   ]
  },
  {
   "cell_type": "code",
   "execution_count": 24,
   "id": "197bfb3d-5363-49fa-8a59-9c9bd8139231",
   "metadata": {},
   "outputs": [
    {
     "name": "stdout",
     "output_type": "stream",
     "text": [
      "A média é 66.792\n"
     ]
    },
    {
     "data": {
      "text/plain": [
       "numpy.float64"
      ]
     },
     "execution_count": 24,
     "metadata": {},
     "output_type": "execute_result"
    }
   ],
   "source": [
    "media = df.pontuacao_matematica.mean() # Teremos um valor quantitativo contínuo\n",
    "print(\"A média é\", media)\n",
    "type(media)"
   ]
  },
  {
   "cell_type": "code",
   "execution_count": 25,
   "id": "75063f75-98fd-4259-bc7a-cdd7491b4b9d",
   "metadata": {
    "tags": []
   },
   "outputs": [
    {
     "name": "stdout",
     "output_type": "stream",
     "text": [
      "A média é 66.792\n"
     ]
    },
    {
     "data": {
      "text/plain": [
       "numpy.float64"
      ]
     },
     "execution_count": 25,
     "metadata": {},
     "output_type": "execute_result"
    }
   ],
   "source": [
    "# Podemos também aferir a média usando o numpy\n",
    "medianp = np.mean(df.pontuacao_matematica)\n",
    "print(\"A média é\", media)\n",
    "type(media)"
   ]
  },
  {
   "cell_type": "markdown",
   "id": "1ce38675-4ce7-4ac3-a621-b5b068ef232c",
   "metadata": {
    "tags": []
   },
   "source": [
    "### <span style=\"color:#6d6a60\"> 3.3 Representação Numérica (Adicional) </span> <a class=\"anchor\" id=\"sec_3_3\"></a>\n",
    "\n",
    "Pode ser que, a depender dos valores com quais você esteja lidando, seja necessário representá-los de outra maneira. As duas principais se dão pelo **arredondamento** e pela **notação científica**."
   ]
  },
  {
   "cell_type": "markdown",
   "id": "dada2f30-c5a8-49a9-a555-b443e10cc007",
   "metadata": {
    "tags": []
   },
   "source": [
    "#### Arredondamento\n"
   ]
  },
  {
   "cell_type": "code",
   "execution_count": 26,
   "id": "3254d5cf-075e-4f30-9b38-e39da9339494",
   "metadata": {
    "tags": []
   },
   "outputs": [
    {
     "name": "stdout",
     "output_type": "stream",
     "text": [
      "66.79\n",
      "66.79200\n",
      "66.79\n",
      "66.79200\n"
     ]
    }
   ],
   "source": [
    "# Uma forma simples de realizar o arredondamento \n",
    "# é com o uso de format string, veja abaixo:\n",
    "\n",
    "print(\"%.2f\" % media) # Observe que o número ao lado de f define a quantia de casas decimais\n",
    "\n",
    "print(\"%.5f\" % media) # 5 casas decimais\n",
    "\n",
    "print(f\"{media:.2f}\") # versão moderna - 2 casas decimais\n",
    "\n",
    "print(f\"{media:.5f}\") # versão moderna - 5 casas decimais"
   ]
  },
  {
   "cell_type": "markdown",
   "id": "fa0b5977-cc43-428c-91b1-28d04ac9bff0",
   "metadata": {},
   "source": [
    "#### Notação Científica\n"
   ]
  },
  {
   "cell_type": "code",
   "execution_count": 28,
   "id": "890d3942-9fa9-48a7-8c77-ef083345418b",
   "metadata": {
    "tags": []
   },
   "outputs": [
    {
     "name": "stdout",
     "output_type": "stream",
     "text": [
      "Média em notação científica: 6.68e+01\n"
     ]
    }
   ],
   "source": [
    "# O mesmo se aplica à notação científica\n",
    "\n",
    "# Definiremos um número elevado para média\n",
    "print(f\"Média em notação científica: {media:.2e}\") # Notação científica de duas casas decimais"
   ]
  }
 ],
 "metadata": {
  "kernelspec": {
   "display_name": "Python 3 (ipykernel)",
   "language": "python",
   "name": "python3"
  },
  "language_info": {
   "codemirror_mode": {
    "name": "ipython",
    "version": 3
   },
   "file_extension": ".py",
   "mimetype": "text/x-python",
   "name": "python",
   "nbconvert_exporter": "python",
   "pygments_lexer": "ipython3",
   "version": "3.10.13"
  }
 },
 "nbformat": 4,
 "nbformat_minor": 5
}
