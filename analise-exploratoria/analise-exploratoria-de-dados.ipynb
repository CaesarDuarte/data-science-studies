{
 "cells": [
  {
   "cell_type": "markdown",
   "id": "34847e17-d90a-47af-941f-a1d9a7cd55bd",
   "metadata": {},
   "source": [
    "Nota do Autor: Este notebook sofrerá atualizações constantes até atingir sua versão **final** (desculpe, chatgpt). Desta forma, se encontrar algum conteúdo incompleto, peço que seja paciente e, caso encontre algum conteúdo equivocado, peço respeitosamente que me notifique e oriente sobre este. Obrigado.\n",
    "\n",
    "**Última modificação**: 18/12/2023"
   ]
  },
  {
   "cell_type": "markdown",
   "id": "4fa898b9-5bd5-4049-a5d3-d6852c284ec3",
   "metadata": {},
   "source": [
    "# <span style=\"color:#6d6a60\"> Análise Exploratória de Dados </span>\n",
    "\n",
    "# <span style=\"color:#6d6a60\"> Índice </span>\n",
    "* [1. Sobre este Notebook](#sec_1)\n",
    "* [2. Introdução](#sec_2)\n",
    "    * [2.1 Sobre AED](#sec_2_1)\n",
    "    * [2.2 Conceitos Iniciais](#sec_2_2)\n",
    "* [3. TODO](#x_2)\n",
    "    * [3.1 TODO](#x_3_1)\n",
    "    * [3.2 TODO](#x_3_2)\n",
    "    * [3.3 TODO](#x_3_3)\n",
    "    * [3.4 TODO](#x_3_4)\n",
    "    * [3.5 TODO](#x_3_5)\n",
    "* [4. TODO](#x_3)\n",
    "    * [4.1 TODO](#x_4_1)\n",
    "    * [4.2 TODO](#x_4_2)\n",
    "    * [4.3 TODO](#x_4_3)\n",
    "    * [4.4 TODO](#x_4_4)\n",
    "* [5. TODO](#x_5)\n",
    "    * [5.1 TODO](#x_5_1)\n",
    "    * [5.2 TODO](#x_5_2)\n",
    "    * [5.3 TODO](#x_5_3)\n",
    "* [6. TODO](#x_6)"
   ]
  },
  {
   "cell_type": "markdown",
   "id": "5f02eb2c-23ce-475f-9599-99f6c381ae2d",
   "metadata": {},
   "source": [
    "# <span style=\"color:#6d6a60\"> 1. Sobre este Notebook </span> <a class=\"anchor\" id=\"sec_1\"></a>\n",
    "\n",
    "Olá, seja muito bem-vindo (a)! Fico feliz em compartilhar um pouco sobre meus estudos com vossa pessoa!\n",
    "\n",
    "Caso não tenha ficado claro, este, assim como inúmeros outros notebooks presentes no repositório principal, possui a finalidade de complementar meus estudos\n",
    "por meio da promoção de um estudo ativo, ao mesmo tempo que me permita praticar variados conceitos, desde matemáticos aos referentes à programação.\n",
    "\n",
    "O acesso deste notebook será sempre **livre**, **gratuito** e sem preocupações quanto à estrutura. Eu pretendo atualizá-lo, em prazos que podem variar, até que obtenha uma versão considerada por mim como **final**.\n",
    "\n",
    "Bons estudos!"
   ]
  },
  {
   "cell_type": "markdown",
   "id": "3587ce06-724a-45ab-8de3-2c5ba1bb961b",
   "metadata": {
    "tags": []
   },
   "source": [
    "# <span style=\"color:#6d6a60\"> 2. Introdução </span> <a class=\"anchor\" id=\"sec_2\"></a>"
   ]
  },
  {
   "cell_type": "markdown",
   "id": "7417a3d6-076d-448a-83a5-6b27479e0560",
   "metadata": {
    "tags": []
   },
   "source": [
    "### <span style=\"color:#6d6a60\"> 2.1 Sobre AED </span> <a class=\"anchor\" id=\"sec_2_1\"></a>\n",
    "\n",
    "A Análise Exploratória de Dados (AED) se trata de uma ferramenta que apresenta como base a **Estatística** para a realização de um estudo avançado sobre dados de modo a extrair algum **Insight** destes. Estes insights, a depender de quais sejam, poderão ser utilizados para inúmeras finalidades, tais como: redução de custos em uma empresa, aumento de eficiência em um serviço, descoberta de padrões de consumo, entre muito outros."
   ]
  },
  {
   "cell_type": "markdown",
   "id": "288112c7-f44a-4baf-8d75-156f9ff97ead",
   "metadata": {
    "tags": []
   },
   "source": [
    "### <span style=\"color:#6d6a60\"> 2.2 Conceitos Iniciais </span> <a class=\"anchor\" id=\"sec_2_2\"></a>\n",
    "\n",
    "Antes de adrentarmos em aspectos práticos, considero importante a compreensão de alguns conceitos, para tanto, irei propor uma situação fictícia:\n",
    "\n",
    "Uma instituição de ensino deseja realizar em um de seus polos de estudo uma pesquisa de modo a conferir como se dá a preferência de seus alunos em uma modalidade de esporte, a instituição possui o acesso de todas as fichas estudantis, possuindo desta forma os dados referentes a: **idade, sexo, nome, turma, pontuações bimestrais**, entre outros dados.\n",
    "\n",
    "O polo em questão da instituição possui cerca de **450** alunos, porém, a instituição fará a pesquisa na turma A, com cerca de **48** integrantes.\n",
    "\n",
    "Com base no exposto acima, temos:\n",
    "\n",
    "**Estatística**: Trata-se de um ramo multidisciplinar da matemática que possui como principal foco a exploração da função, correlação e significância de um dado. Deste modo, em Ciência de Dados, a Estatística nos ajuda a entender padrões e tendências nos dados. Por exemplo, podemos usar estatísticas descritivas para resumir a preferência esportiva da turma.\n",
    "\n",
    "**Característica (dado)**: Trata-se de um determinado dado pertencente a um registro, no caso acima, idade, sexo, nome, turma e pontuações são características. No contexto da preferência esportiva, poderíamos analisar características específicas, como a frequência de participação em eventos esportivos.\n",
    "\n",
    "**Insight**: Refere-se à descoberta obtida após a exploração de um determinado dado por meio de análise. Ao analisar essas características, podemos obter insights valiosos. Por exemplo, podemos descobrir que os alunos com melhores pontuações bimestrais têm uma preferência esportiva específica.\n",
    "\n",
    "**População**: Refere-se a todo o conjunto de registros da característica de interesse, que neste caso seriam todos os alunos da instituição, isto é os 450 alunos.\n",
    "\n",
    "**Amostra**: Refere-se a **qualquer** subconjunto da população. As amostras são utilizadas pois frequentemente não é viável/possível realizar uma pesquisa com toda a população (imagine questionar todos os alunos do Brasil). No caso acima, os 48 alunos da turma A compõem a amostra.\n"
   ]
  },
  {
   "cell_type": "markdown",
   "id": "f313a56c-d4ba-4a52-aaa1-696cd2cbfcc5",
   "metadata": {},
   "source": [
    "# <span style=\"color:#6d6a60\"> 3. AED na Prática</span> <a class=\"anchor\" id=\"sec_2\"></a>"
   ]
  },
  {
   "cell_type": "markdown",
   "id": "bdf1b979-9160-48e4-8044-ab8510581b07",
   "metadata": {},
   "source": [
    "### <span style=\"color:#6d6a60\"> 3.1 Importação de Bibliotecas e Comandos Básicos </span> <a class=\"anchor\" id=\"sec_2_2\"></a>"
   ]
  },
  {
   "cell_type": "code",
   "execution_count": 1,
   "id": "62f8bd6e-d6d5-4a60-9d61-7cde0c12c4ca",
   "metadata": {
    "tags": []
   },
   "outputs": [],
   "source": [
    "import pandas as pd # Usaremos a biblioteca pandas para a manipulação de nosso conjunto de dados\n",
    "import numpy as np # Usaremos a biblioteca numpy para operações matemáticas"
   ]
  },
  {
   "cell_type": "code",
   "execution_count": null,
   "id": "acb8e5e5-8f97-4cf5-8b6f-b156572bc706",
   "metadata": {},
   "outputs": [],
   "source": [
    "#TODO"
   ]
  }
 ],
 "metadata": {
  "kernelspec": {
   "display_name": "Python 3 (ipykernel)",
   "language": "python",
   "name": "python3"
  },
  "language_info": {
   "codemirror_mode": {
    "name": "ipython",
    "version": 3
   },
   "file_extension": ".py",
   "mimetype": "text/x-python",
   "name": "python",
   "nbconvert_exporter": "python",
   "pygments_lexer": "ipython3",
   "version": "3.10.13"
  }
 },
 "nbformat": 4,
 "nbformat_minor": 5
}
